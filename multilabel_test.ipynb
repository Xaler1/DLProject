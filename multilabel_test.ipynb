{
 "cells": [
  {
   "cell_type": "code",
   "execution_count": 1,
   "id": "initial_id",
   "metadata": {
    "collapsed": true,
    "ExecuteTime": {
     "end_time": "2023-11-29T22:36:33.726809400Z",
     "start_time": "2023-11-29T22:36:29.054983300Z"
    }
   },
   "outputs": [],
   "source": [
    "import numpy as np\n",
    "import pandas as pd\n",
    "import torch\n",
    "from torch import nn\n",
    "import os\n",
    "from sklearn.model_selection import train_test_split\n",
    "from sklearn.preprocessing import LabelEncoder\n",
    "import torchvision as tv\n",
    "import ast\n",
    "from tqdm import tqdm\n",
    "from sklearn.metrics import accuracy_score\n",
    "device = torch.device(\"cuda\" if torch.cuda.is_available() else \"cpu\")\n",
    "torch.set_default_dtype(torch.float32)"
   ]
  },
  {
   "cell_type": "code",
   "execution_count": 2,
   "outputs": [],
   "source": [
    "data_root = os.path.join(\"./\", \"data/\")\n",
    "y_train_raw = pd.read_csv(os.path.join(data_root, \"y_train.csv\"), header=None)"
   ],
   "metadata": {
    "collapsed": false,
    "ExecuteTime": {
     "end_time": "2023-11-29T22:36:33.743927500Z",
     "start_time": "2023-11-29T22:36:33.728809Z"
    }
   },
   "id": "4acb4181da9b8c30"
  },
  {
   "cell_type": "code",
   "execution_count": 3,
   "outputs": [],
   "source": [
    "data_root = os.path.join(\"./\", \"data/\")\n",
    "\n",
    "x_train = np.load(os.path.join(data_root, \"X_train.npy\"))\n",
    "y_train_raw = pd.read_csv(os.path.join(data_root, \"y_train.csv\"), header=None)\n",
    "\n",
    "# convert strings to corresponding arrays\n",
    "y_train_raw[0] = y_train_raw[0].apply(lambda x: ast.literal_eval(x))\n",
    "y_train_raw = y_train_raw[0].values\n",
    "\n",
    "x_test = np.load(os.path.join(data_root, \"X_test.npy\"))\n",
    "y_test_raw = pd.read_csv(os.path.join(data_root, \"y_test.csv\"), header=None)\n",
    "y_test_raw[0] = y_test_raw[0].apply(lambda x: ast.literal_eval(x))\n",
    "y_test_raw = y_test_raw[0].values\n",
    "\n",
    "class_to_index = {\n",
    "    \"NORM\": 0,\n",
    "    \"MI\": 1,\n",
    "    \"HYP\": 2,\n",
    "    \"STTC\": 3,\n",
    "    \"CD\": 4\n",
    "}\n",
    "\n",
    "# Encoding the labels for multi-label classification\n",
    "y_test = torch.zeros((len(y_test_raw), len(class_to_index)), dtype=torch.float32)\n",
    "for i, classification in enumerate(y_test_raw):\n",
    "    for class_name in classification:\n",
    "        y_test[i, class_to_index[class_name]] = 1\n",
    "\n",
    "y_train = torch.zeros((len(y_train_raw), len(class_to_index)), dtype=torch.float32)\n",
    "for i, classification in enumerate(y_train_raw):\n",
    "    for class_name in classification:\n",
    "        y_train[i, class_to_index[class_name]] = 1\n",
    "\n",
    "x_train = torch.tensor(x_train, dtype=torch.float32)\n",
    "x_test = torch.tensor(x_test, dtype=torch.float32)\n",
    "\n",
    "# Free up some memory\n",
    "del y_train_raw\n",
    "del y_test_raw"
   ],
   "metadata": {
    "collapsed": false,
    "ExecuteTime": {
     "end_time": "2023-11-29T22:36:35.842743100Z",
     "start_time": "2023-11-29T22:36:33.746928900Z"
    }
   },
   "id": "e080b8b33a3a8b96"
  },
  {
   "cell_type": "code",
   "execution_count": 4,
   "outputs": [],
   "source": [
    "BATCH_SIZE = 128\n",
    "\n",
    "train_set = torch.utils.data.TensorDataset(x_train, y_train)\n",
    "train_loader = torch.utils.data.DataLoader(train_set, batch_size=BATCH_SIZE, shuffle=True)\n",
    "\n",
    "test_set = torch.utils.data.TensorDataset(x_test, y_test)\n",
    "test_loader = torch.utils.data.DataLoader(test_set, batch_size=BATCH_SIZE, shuffle=True)"
   ],
   "metadata": {
    "collapsed": false,
    "ExecuteTime": {
     "end_time": "2023-11-29T22:36:35.860763700Z",
     "start_time": "2023-11-29T22:36:35.844741500Z"
    }
   },
   "id": "d29e0e1da2fd7512"
  },
  {
   "cell_type": "code",
   "execution_count": 5,
   "outputs": [],
   "source": [
    "class PositionalEncoding(nn.Module):\n",
    "    def __init__(self, max_len=1000, emb_size=12):\n",
    "        super(PositionalEncoding, self).__init__()\n",
    "\n",
    "        pe = torch.zeros(max_len, emb_size)\n",
    "        position = torch.arange(0, max_len, dtype=torch.float).unsqueeze(1)\n",
    "        div_term = torch.exp(torch.arange(0, emb_size, 2).float() * (-np.log(10000.0) / emb_size))\n",
    "        pe[:, 0::2] = torch.sin(position * div_term)\n",
    "        pe[:, 1::2] = torch.cos(position * div_term)\n",
    "        pe = pe.unsqueeze(0).transpose(0, 1)\n",
    "        self.register_buffer(\"pe\", pe)\n",
    "\n",
    "    def forward(self, x):\n",
    "        return x + self.pe[:x.size(0), :]\n",
    "\n",
    "class Transformer(nn.Transformer):\n",
    "    def __init__(self, emb_size=12, nhead=6, depth=6, hidden_size=128, seq_length=1000, num_classes=5):\n",
    "        super(Transformer, self).__init__(d_model=emb_size, nhead=nhead, num_encoder_layers=depth, num_decoder_layers=depth, dim_feedforward=hidden_size)\n",
    "    \n",
    "        self.pos_encoder = PositionalEncoding(seq_length, emb_size)\n",
    "        self.decoder = nn.Linear(emb_size, 128)\n",
    "        self.linear1 = nn.Linear(128, num_classes)\n",
    "        \n",
    "    def forward(self, x):\n",
    "        #x = self.pos_encoder(x)\n",
    "        x = self.encoder(x)\n",
    "        x = x.mean(dim=1)\n",
    "        x = self.decoder(x)\n",
    "        x = torch.relu(x)\n",
    "        x = self.linear1(x)\n",
    "        x = torch.sigmoid(x)\n",
    "        return x\n",
    "    "
   ],
   "metadata": {
    "collapsed": false,
    "ExecuteTime": {
     "end_time": "2023-11-29T22:36:35.882371500Z",
     "start_time": "2023-11-29T22:36:35.864266800Z"
    }
   },
   "id": "5f6ca9bf93a33bf1"
  },
  {
   "cell_type": "code",
   "execution_count": 6,
   "outputs": [],
   "source": [
    "def train(net, optimizer, criterion, train_loader, epochs=10, scheduler=None):\n",
    "    net = net.to(device)\n",
    "\n",
    "    train_losses = []\n",
    "\n",
    "    for _ in range(epochs):\n",
    "        pbar = tqdm(train_loader, total=len(train_loader))\n",
    "        for i, (x, y) in enumerate(pbar):\n",
    "            x, y = x.to(device), y.to(device)\n",
    "\n",
    "            optimizer.zero_grad()\n",
    "            y_pred = net(x)\n",
    "            loss = criterion(y_pred, y)\n",
    "            loss.backward()\n",
    "            nn.utils.clip_grad_norm_(net.parameters(), 5)\n",
    "            optimizer.step()\n",
    "            \n",
    "            # exact match ratio\n",
    "            acc = accuracy_score(y.cpu().detach().numpy(), y_pred.cpu().detach().numpy().round())\n",
    "            pbar.set_description(f\"loss: {loss.item():.4f}, acc: {acc:.4f}\")\n",
    "            \n",
    "            if scheduler is not None:\n",
    "                scheduler.step(loss.item())\n",
    "\n",
    "    return train_losses"
   ],
   "metadata": {
    "collapsed": false,
    "ExecuteTime": {
     "end_time": "2023-11-29T22:36:35.904900500Z",
     "start_time": "2023-11-29T22:36:35.877364300Z"
    }
   },
   "id": "c6fc611fbbc3aa9"
  },
  {
   "cell_type": "code",
   "execution_count": 10,
   "outputs": [
    {
     "name": "stderr",
     "output_type": "stream",
     "text": [
      "loss: 0.6938, acc: 0.0000: 100%|██████████| 154/154 [00:14<00:00, 10.91it/s]\n",
      "loss: 0.6935, acc: 0.0391:  13%|█▎        | 20/154 [00:01<00:11, 11.30it/s]"
     ]
    },
    {
     "name": "stdout",
     "output_type": "stream",
     "text": [
      "Epoch 00172: reducing learning rate of group 0 to 1.0000e-04.\n"
     ]
    },
    {
     "name": "stderr",
     "output_type": "stream",
     "text": [
      "loss: 0.6935, acc: 0.0234:  21%|██        | 32/154 [00:03<00:10, 11.33it/s]"
     ]
    },
    {
     "name": "stdout",
     "output_type": "stream",
     "text": [
      "Epoch 00186: reducing learning rate of group 0 to 1.0000e-05.\n"
     ]
    },
    {
     "name": "stderr",
     "output_type": "stream",
     "text": [
      "loss: 0.6935, acc: 0.0312:  29%|██▊       | 44/154 [00:03<00:09, 11.27it/s]"
     ]
    },
    {
     "name": "stdout",
     "output_type": "stream",
     "text": [
      "Epoch 00197: reducing learning rate of group 0 to 1.0000e-06.\n"
     ]
    },
    {
     "name": "stderr",
     "output_type": "stream",
     "text": [
      "loss: 0.6935, acc: 0.0078:  35%|███▌      | 54/154 [00:04<00:08, 11.25it/s]"
     ]
    },
    {
     "name": "stdout",
     "output_type": "stream",
     "text": [
      "Epoch 00208: reducing learning rate of group 0 to 1.0000e-07.\n"
     ]
    },
    {
     "name": "stderr",
     "output_type": "stream",
     "text": [
      "loss: 0.6935, acc: 0.0234:  43%|████▎     | 66/154 [00:05<00:07, 11.25it/s]"
     ]
    },
    {
     "name": "stdout",
     "output_type": "stream",
     "text": [
      "Epoch 00219: reducing learning rate of group 0 to 1.0000e-08.\n"
     ]
    },
    {
     "name": "stderr",
     "output_type": "stream",
     "text": [
      "loss: 0.6935, acc: 0.0312:  56%|█████▋    | 87/154 [00:07<00:06, 11.11it/s]\n"
     ]
    },
    {
     "ename": "KeyboardInterrupt",
     "evalue": "",
     "output_type": "error",
     "traceback": [
      "\u001B[1;31m---------------------------------------------------------------------------\u001B[0m",
      "\u001B[1;31mKeyboardInterrupt\u001B[0m                         Traceback (most recent call last)",
      "Cell \u001B[1;32mIn[10], line 5\u001B[0m\n\u001B[0;32m      3\u001B[0m criterion \u001B[38;5;241m=\u001B[39m nn\u001B[38;5;241m.\u001B[39mBCEWithLogitsLoss()\n\u001B[0;32m      4\u001B[0m scheduler \u001B[38;5;241m=\u001B[39m torch\u001B[38;5;241m.\u001B[39moptim\u001B[38;5;241m.\u001B[39mlr_scheduler\u001B[38;5;241m.\u001B[39mReduceLROnPlateau(optimizer, patience\u001B[38;5;241m=\u001B[39m\u001B[38;5;241m10\u001B[39m, verbose\u001B[38;5;241m=\u001B[39m\u001B[38;5;28;01mTrue\u001B[39;00m)\n\u001B[1;32m----> 5\u001B[0m \u001B[43mtrain\u001B[49m\u001B[43m(\u001B[49m\u001B[43mnet\u001B[49m\u001B[43m,\u001B[49m\u001B[43m \u001B[49m\u001B[43moptimizer\u001B[49m\u001B[43m,\u001B[49m\u001B[43m \u001B[49m\u001B[43mcriterion\u001B[49m\u001B[43m,\u001B[49m\u001B[43m \u001B[49m\u001B[43mtrain_loader\u001B[49m\u001B[43m,\u001B[49m\u001B[43m \u001B[49m\u001B[43mepochs\u001B[49m\u001B[38;5;241;43m=\u001B[39;49m\u001B[38;5;241;43m10\u001B[39;49m\u001B[43m,\u001B[49m\u001B[43m \u001B[49m\u001B[43mscheduler\u001B[49m\u001B[38;5;241;43m=\u001B[39;49m\u001B[43mscheduler\u001B[49m\u001B[43m)\u001B[49m\n",
      "Cell \u001B[1;32mIn[6], line 19\u001B[0m, in \u001B[0;36mtrain\u001B[1;34m(net, optimizer, criterion, train_loader, epochs, scheduler)\u001B[0m\n\u001B[0;32m     16\u001B[0m optimizer\u001B[38;5;241m.\u001B[39mstep()\n\u001B[0;32m     18\u001B[0m \u001B[38;5;66;03m# exact match ratio\u001B[39;00m\n\u001B[1;32m---> 19\u001B[0m acc \u001B[38;5;241m=\u001B[39m accuracy_score(\u001B[43my\u001B[49m\u001B[38;5;241;43m.\u001B[39;49m\u001B[43mcpu\u001B[49m\u001B[43m(\u001B[49m\u001B[43m)\u001B[49m\u001B[38;5;241m.\u001B[39mdetach()\u001B[38;5;241m.\u001B[39mnumpy(), y_pred\u001B[38;5;241m.\u001B[39mcpu()\u001B[38;5;241m.\u001B[39mdetach()\u001B[38;5;241m.\u001B[39mnumpy()\u001B[38;5;241m.\u001B[39mround())\n\u001B[0;32m     20\u001B[0m pbar\u001B[38;5;241m.\u001B[39mset_description(\u001B[38;5;124mf\u001B[39m\u001B[38;5;124m\"\u001B[39m\u001B[38;5;124mloss: \u001B[39m\u001B[38;5;132;01m{\u001B[39;00mloss\u001B[38;5;241m.\u001B[39mitem()\u001B[38;5;132;01m:\u001B[39;00m\u001B[38;5;124m.4f\u001B[39m\u001B[38;5;132;01m}\u001B[39;00m\u001B[38;5;124m, acc: \u001B[39m\u001B[38;5;132;01m{\u001B[39;00macc\u001B[38;5;132;01m:\u001B[39;00m\u001B[38;5;124m.4f\u001B[39m\u001B[38;5;132;01m}\u001B[39;00m\u001B[38;5;124m\"\u001B[39m)\n\u001B[0;32m     22\u001B[0m \u001B[38;5;28;01mif\u001B[39;00m scheduler \u001B[38;5;129;01mis\u001B[39;00m \u001B[38;5;129;01mnot\u001B[39;00m \u001B[38;5;28;01mNone\u001B[39;00m:\n",
      "\u001B[1;31mKeyboardInterrupt\u001B[0m: "
     ]
    }
   ],
   "source": [
    "net = Transformer(nhead=6, hidden_size=512, depth=3)\n",
    "optimizer = torch.optim.Adam(net.parameters(), lr=0.001)\n",
    "criterion = nn.BCEWithLogitsLoss()\n",
    "scheduler = torch.optim.lr_scheduler.ReduceLROnPlateau(optimizer, patience=20, verbose=True, cooldown=20)\n",
    "train(net, optimizer, criterion, train_loader, epochs=10, scheduler=scheduler)"
   ],
   "metadata": {
    "collapsed": false,
    "ExecuteTime": {
     "end_time": "2023-11-29T22:39:03.508162500Z",
     "start_time": "2023-11-29T22:38:41.496342200Z"
    }
   },
   "id": "45a319ed4f13ef0e"
  },
  {
   "cell_type": "code",
   "execution_count": null,
   "outputs": [],
   "source": [],
   "metadata": {
    "collapsed": false
   },
   "id": "391e1c2967f9a5ab"
  }
 ],
 "metadata": {
  "kernelspec": {
   "display_name": "Python 3",
   "language": "python",
   "name": "python3"
  },
  "language_info": {
   "codemirror_mode": {
    "name": "ipython",
    "version": 2
   },
   "file_extension": ".py",
   "mimetype": "text/x-python",
   "name": "python",
   "nbconvert_exporter": "python",
   "pygments_lexer": "ipython2",
   "version": "2.7.6"
  }
 },
 "nbformat": 4,
 "nbformat_minor": 5
}
