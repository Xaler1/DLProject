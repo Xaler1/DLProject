{
 "cells": [
  {
   "cell_type": "code",
   "execution_count": 1,
   "metadata": {},
   "outputs": [
    {
     "name": "stderr",
     "output_type": "stream",
     "text": [
      "2023-12-16 14:53:56.061063: I tensorflow/core/util/port.cc:113] oneDNN custom operations are on. You may see slightly different numerical results due to floating-point round-off errors from different computation orders. To turn them off, set the environment variable `TF_ENABLE_ONEDNN_OPTS=0`.\n",
      "2023-12-16 14:53:56.261732: E external/local_xla/xla/stream_executor/cuda/cuda_dnn.cc:9261] Unable to register cuDNN factory: Attempting to register factory for plugin cuDNN when one has already been registered\n",
      "2023-12-16 14:53:56.261812: E external/local_xla/xla/stream_executor/cuda/cuda_fft.cc:607] Unable to register cuFFT factory: Attempting to register factory for plugin cuFFT when one has already been registered\n",
      "2023-12-16 14:53:56.287573: E external/local_xla/xla/stream_executor/cuda/cuda_blas.cc:1515] Unable to register cuBLAS factory: Attempting to register factory for plugin cuBLAS when one has already been registered\n",
      "2023-12-16 14:53:56.347542: I tensorflow/core/platform/cpu_feature_guard.cc:182] This TensorFlow binary is optimized to use available CPU instructions in performance-critical operations.\n",
      "To enable the following instructions: AVX2 AVX_VNNI FMA, in other operations, rebuild TensorFlow with the appropriate compiler flags.\n",
      "2023-12-16 14:53:57.603171: W tensorflow/compiler/tf2tensorrt/utils/py_utils.cc:38] TF-TRT Warning: Could not find TensorRT\n"
     ]
    },
    {
     "name": "stdout",
     "output_type": "stream",
     "text": [
      "Device: cuda\n"
     ]
    }
   ],
   "source": [
    "# torch and torchvision imports\n",
    "\n",
    "import torch, torch.nn as nn, torch.optim as optim\n",
    "from torchmetrics.classification import MultilabelAUROC\n",
    "import numpy as np,  matplotlib.pyplot as plt, pandas as pd, pickle\n",
    "from torchinfo import summary\n",
    "from torch.utils.tensorboard import SummaryWriter\n",
    "from ResnetModel import *\n",
    "writer = SummaryWriter()\n",
    "# from google.colab import drive\n",
    "# drive.mount('/gdrive')\n",
    "\n",
    "device = torch.device('cuda' if torch.cuda.is_available() else 'cpu')\n",
    "print(f\"Device: {device}\")\n"
   ]
  },
  {
   "cell_type": "markdown",
   "metadata": {},
   "source": [
    "### Loading and Preparing Data"
   ]
  },
  {
   "cell_type": "code",
   "execution_count": 2,
   "metadata": {},
   "outputs": [
    {
     "ename": "FileNotFoundError",
     "evalue": "[Errno 2] No such file or directory: 'X_train.npy'",
     "output_type": "error",
     "traceback": [
      "\u001b[0;31m---------------------------------------------------------------------------\u001b[0m",
      "\u001b[0;31mFileNotFoundError\u001b[0m                         Traceback (most recent call last)",
      "Cell \u001b[0;32mIn [2], line 1\u001b[0m\n\u001b[0;32m----> 1\u001b[0m X_train \u001b[38;5;241m=\u001b[39m torch\u001b[38;5;241m.\u001b[39mfrom_numpy(np\u001b[38;5;241m.\u001b[39mtranspose(\u001b[43mnp\u001b[49m\u001b[38;5;241;43m.\u001b[39;49m\u001b[43mload\u001b[49m\u001b[43m(\u001b[49m\u001b[38;5;124;43m'\u001b[39;49m\u001b[38;5;124;43mX_train.npy\u001b[39;49m\u001b[38;5;124;43m'\u001b[39;49m\u001b[43m)\u001b[49m, axes \u001b[38;5;241m=\u001b[39m (\u001b[38;5;241m0\u001b[39m,\u001b[38;5;241m2\u001b[39m,\u001b[38;5;241m1\u001b[39m)))\u001b[38;5;241m.\u001b[39mfloat()\n\u001b[1;32m      2\u001b[0m X_test \u001b[38;5;241m=\u001b[39m torch\u001b[38;5;241m.\u001b[39mfrom_numpy(np\u001b[38;5;241m.\u001b[39mtranspose(np\u001b[38;5;241m.\u001b[39mload(\u001b[38;5;124m'\u001b[39m\u001b[38;5;124mX_test.npy\u001b[39m\u001b[38;5;124m'\u001b[39m), axes \u001b[38;5;241m=\u001b[39m (\u001b[38;5;241m0\u001b[39m,\u001b[38;5;241m2\u001b[39m,\u001b[38;5;241m1\u001b[39m)))\u001b[38;5;241m.\u001b[39mfloat()\n\u001b[1;32m      3\u001b[0m y_train \u001b[38;5;241m=\u001b[39m pd\u001b[38;5;241m.\u001b[39mread_pickle(\u001b[38;5;124m'\u001b[39m\u001b[38;5;124my_train.pickle\u001b[39m\u001b[38;5;124m'\u001b[39m)\u001b[38;5;241m.\u001b[39mto_numpy()\n",
      "File \u001b[0;32m/usr/lib/python3/dist-packages/numpy/lib/npyio.py:405\u001b[0m, in \u001b[0;36mload\u001b[0;34m(file, mmap_mode, allow_pickle, fix_imports, encoding, max_header_size)\u001b[0m\n\u001b[1;32m    403\u001b[0m     own_fid \u001b[38;5;241m=\u001b[39m \u001b[38;5;28;01mFalse\u001b[39;00m\n\u001b[1;32m    404\u001b[0m \u001b[38;5;28;01melse\u001b[39;00m:\n\u001b[0;32m--> 405\u001b[0m     fid \u001b[38;5;241m=\u001b[39m stack\u001b[38;5;241m.\u001b[39menter_context(\u001b[38;5;28;43mopen\u001b[39;49m\u001b[43m(\u001b[49m\u001b[43mos_fspath\u001b[49m\u001b[43m(\u001b[49m\u001b[43mfile\u001b[49m\u001b[43m)\u001b[49m\u001b[43m,\u001b[49m\u001b[43m \u001b[49m\u001b[38;5;124;43m\"\u001b[39;49m\u001b[38;5;124;43mrb\u001b[39;49m\u001b[38;5;124;43m\"\u001b[39;49m\u001b[43m)\u001b[49m)\n\u001b[1;32m    406\u001b[0m     own_fid \u001b[38;5;241m=\u001b[39m \u001b[38;5;28;01mTrue\u001b[39;00m\n\u001b[1;32m    408\u001b[0m \u001b[38;5;66;03m# Code to distinguish from NumPy binary files and pickles.\u001b[39;00m\n",
      "\u001b[0;31mFileNotFoundError\u001b[0m: [Errno 2] No such file or directory: 'X_train.npy'"
     ]
    }
   ],
   "source": [
    "X_train = torch.from_numpy(np.transpose(np.load('X_train.npy'), axes = (0,2,1))).float()\n",
    "X_test = torch.from_numpy(np.transpose(np.load('X_test.npy'), axes = (0,2,1))).float()\n",
    "y_train = pd.read_pickle('y_train.pickle').to_numpy()\n",
    "y_test = pd.read_pickle('y_test.pickle').to_numpy()\n",
    "\n",
    "class_list = []\n",
    "for classes in y_train:\n",
    "    class_list += classes \n",
    "class_list = set(class_list)\n",
    "class_list\n",
    "diagSupclassDict = {val:i for i, val in enumerate(class_list)}\n",
    "diagSupclassDict['Nodiag'] = 5\n",
    "print(diagSupclassDict)\n",
    "\n",
    "train_label_mapping = torch.zeros((X_train.shape[0], len(diagSupclassDict)))\n",
    "print(f\"-\"*(1+30+5+35))\n",
    "for i, classes in enumerate(y_train):\n",
    "    for diagclass in classes:\n",
    "        train_label_mapping[i, diagSupclassDict[diagclass]] = 1\n",
    "    if len(classes) == 0:\n",
    "        train_label_mapping[i, diagSupclassDict['Nodiag']] = 1\n",
    "    \n",
    "    print(f\"|  {str(y_train[i]):>30}  |  {str(train_label_mapping[i]):<30}   |\")\n",
    "\n",
    "test_label_mapping = torch.zeros((X_test.shape[0], len(diagSupclassDict)))\n",
    "print(f\"-\"*(1+30+5+35))\n",
    "for i, classes in enumerate(y_test):\n",
    "    for diagclass in classes:\n",
    "        test_label_mapping[i, diagSupclassDict[diagclass]] = 1\n",
    "    if len(classes) == 0:\n",
    "        test_label_mapping[i, diagSupclassDict['Nodiag']] = 1\n",
    "    \n",
    "    print(f\"|  {str(y_train[i]):>30}  |  {str(test_label_mapping[i]):<30}   |\")\n",
    "\n",
    "train_dataset = torch.utils.data.TensorDataset(X_train, train_label_mapping)\n",
    "test_dataset = torch.utils.data.TensorDataset(X_test, test_label_mapping)\n",
    "x = X_train[0:1]\n",
    "print(x.shape)"
   ]
  },
  {
   "cell_type": "markdown",
   "metadata": {},
   "source": [
    "### Creating the Resnet Model"
   ]
  },
  {
   "cell_type": "code",
   "execution_count": 3,
   "metadata": {},
   "outputs": [
    {
     "ename": "NameError",
     "evalue": "name 'X_train' is not defined",
     "output_type": "error",
     "traceback": [
      "\u001b[0;31m---------------------------------------------------------------------------\u001b[0m",
      "\u001b[0;31mNameError\u001b[0m                                 Traceback (most recent call last)",
      "Cell \u001b[0;32mIn [3], line 1\u001b[0m\n\u001b[0;32m----> 1\u001b[0m \u001b[43mX_train\u001b[49m\u001b[38;5;241m.\u001b[39mshape\n",
      "\u001b[0;31mNameError\u001b[0m: name 'X_train' is not defined"
     ]
    }
   ],
   "source": [
    "X_train.shape"
   ]
  },
  {
   "cell_type": "code",
   "execution_count": 9,
   "metadata": {},
   "outputs": [
    {
     "name": "stdout",
     "output_type": "stream",
     "text": [
      "==========================================================================================\n",
      "Layer (type:depth-idx)                   Output Shape              Param #\n",
      "==========================================================================================\n",
      "ResNet                                   [1, 6]                    --\n",
      "├─Conv1d: 1-1                            [1, 64, 500]              5,376\n",
      "├─ReLU: 1-2                              [1, 64, 500]              --\n",
      "├─BatchNorm1d: 1-3                       [1, 64, 500]              128\n",
      "├─MaxPool1d: 1-4                         [1, 64, 250]              --\n",
      "├─Sequential: 1-5                        [1, 256, 250]             --\n",
      "│    └─Bottleneck: 2-1                   [1, 256, 250]             --\n",
      "│    │    └─Conv1d: 3-1                  [1, 64, 250]              4,096\n",
      "│    │    └─ReLU: 3-2                    [1, 64, 250]              --\n",
      "│    │    └─BatchNorm1d: 3-3             [1, 64, 250]              128\n",
      "│    │    └─Conv1d: 3-4                  [1, 64, 250]              12,288\n",
      "│    │    └─ReLU: 3-5                    [1, 64, 250]              --\n",
      "│    │    └─BatchNorm1d: 3-6             [1, 64, 250]              128\n",
      "│    │    └─Conv1d: 3-7                  [1, 256, 250]             16,384\n",
      "│    │    └─BatchNorm1d: 3-8             [1, 256, 250]             512\n",
      "│    │    └─Sequential: 3-9              [1, 256, 250]             16,896\n",
      "│    │    └─ReLU: 3-10                   [1, 256, 250]             --\n",
      "│    └─Bottleneck: 2-2                   [1, 256, 250]             --\n",
      "│    │    └─Conv1d: 3-11                 [1, 64, 250]              16,384\n",
      "│    │    └─ReLU: 3-12                   [1, 64, 250]              --\n",
      "│    │    └─BatchNorm1d: 3-13            [1, 64, 250]              128\n",
      "│    │    └─Conv1d: 3-14                 [1, 64, 250]              12,288\n",
      "│    │    └─ReLU: 3-15                   [1, 64, 250]              --\n",
      "│    │    └─BatchNorm1d: 3-16            [1, 64, 250]              128\n",
      "│    │    └─Conv1d: 3-17                 [1, 256, 250]             16,384\n",
      "│    │    └─BatchNorm1d: 3-18            [1, 256, 250]             512\n",
      "│    │    └─ReLU: 3-19                   [1, 256, 250]             --\n",
      "│    └─Bottleneck: 2-3                   [1, 256, 250]             --\n",
      "│    │    └─Conv1d: 3-20                 [1, 64, 250]              16,384\n",
      "│    │    └─ReLU: 3-21                   [1, 64, 250]              --\n",
      "│    │    └─BatchNorm1d: 3-22            [1, 64, 250]              128\n",
      "│    │    └─Conv1d: 3-23                 [1, 64, 250]              12,288\n",
      "│    │    └─ReLU: 3-24                   [1, 64, 250]              --\n",
      "│    │    └─BatchNorm1d: 3-25            [1, 64, 250]              128\n",
      "│    │    └─Conv1d: 3-26                 [1, 256, 250]             16,384\n",
      "│    │    └─BatchNorm1d: 3-27            [1, 256, 250]             512\n",
      "│    │    └─ReLU: 3-28                   [1, 256, 250]             --\n",
      "├─Sequential: 1-6                        [1, 512, 125]             --\n",
      "│    └─Bottleneck: 2-4                   [1, 512, 125]             --\n",
      "│    │    └─Conv1d: 3-29                 [1, 128, 250]             32,768\n",
      "│    │    └─ReLU: 3-30                   [1, 128, 250]             --\n",
      "│    │    └─BatchNorm1d: 3-31            [1, 128, 250]             256\n",
      "│    │    └─Conv1d: 3-32                 [1, 128, 125]             49,152\n",
      "│    │    └─ReLU: 3-33                   [1, 128, 125]             --\n",
      "│    │    └─BatchNorm1d: 3-34            [1, 128, 125]             256\n",
      "│    │    └─Conv1d: 3-35                 [1, 512, 125]             65,536\n",
      "│    │    └─BatchNorm1d: 3-36            [1, 512, 125]             1,024\n",
      "│    │    └─Sequential: 3-37             [1, 512, 125]             132,096\n",
      "│    │    └─ReLU: 3-38                   [1, 512, 125]             --\n",
      "│    └─Bottleneck: 2-5                   [1, 512, 125]             --\n",
      "│    │    └─Conv1d: 3-39                 [1, 128, 125]             65,536\n",
      "│    │    └─ReLU: 3-40                   [1, 128, 125]             --\n",
      "│    │    └─BatchNorm1d: 3-41            [1, 128, 125]             256\n",
      "│    │    └─Conv1d: 3-42                 [1, 128, 125]             49,152\n",
      "│    │    └─ReLU: 3-43                   [1, 128, 125]             --\n",
      "│    │    └─BatchNorm1d: 3-44            [1, 128, 125]             256\n",
      "│    │    └─Conv1d: 3-45                 [1, 512, 125]             65,536\n",
      "│    │    └─BatchNorm1d: 3-46            [1, 512, 125]             1,024\n",
      "│    │    └─ReLU: 3-47                   [1, 512, 125]             --\n",
      "│    └─Bottleneck: 2-6                   [1, 512, 125]             --\n",
      "│    │    └─Conv1d: 3-48                 [1, 128, 125]             65,536\n",
      "│    │    └─ReLU: 3-49                   [1, 128, 125]             --\n",
      "│    │    └─BatchNorm1d: 3-50            [1, 128, 125]             256\n",
      "│    │    └─Conv1d: 3-51                 [1, 128, 125]             49,152\n",
      "│    │    └─ReLU: 3-52                   [1, 128, 125]             --\n",
      "│    │    └─BatchNorm1d: 3-53            [1, 128, 125]             256\n",
      "│    │    └─Conv1d: 3-54                 [1, 512, 125]             65,536\n",
      "│    │    └─BatchNorm1d: 3-55            [1, 512, 125]             1,024\n",
      "│    │    └─ReLU: 3-56                   [1, 512, 125]             --\n",
      "│    └─Bottleneck: 2-7                   [1, 512, 125]             --\n",
      "│    │    └─Conv1d: 3-57                 [1, 128, 125]             65,536\n",
      "│    │    └─ReLU: 3-58                   [1, 128, 125]             --\n",
      "│    │    └─BatchNorm1d: 3-59            [1, 128, 125]             256\n",
      "│    │    └─Conv1d: 3-60                 [1, 128, 125]             49,152\n",
      "│    │    └─ReLU: 3-61                   [1, 128, 125]             --\n",
      "│    │    └─BatchNorm1d: 3-62            [1, 128, 125]             256\n",
      "│    │    └─Conv1d: 3-63                 [1, 512, 125]             65,536\n",
      "│    │    └─BatchNorm1d: 3-64            [1, 512, 125]             1,024\n",
      "│    │    └─ReLU: 3-65                   [1, 512, 125]             --\n",
      "├─Sequential: 1-7                        [1, 1024, 63]             --\n",
      "│    └─Bottleneck: 2-8                   [1, 1024, 63]             --\n",
      "│    │    └─Conv1d: 3-66                 [1, 256, 125]             131,072\n",
      "│    │    └─ReLU: 3-67                   [1, 256, 125]             --\n",
      "│    │    └─BatchNorm1d: 3-68            [1, 256, 125]             512\n",
      "│    │    └─Conv1d: 3-69                 [1, 256, 63]              196,608\n",
      "│    │    └─ReLU: 3-70                   [1, 256, 63]              --\n",
      "│    │    └─BatchNorm1d: 3-71            [1, 256, 63]              512\n",
      "│    │    └─Conv1d: 3-72                 [1, 1024, 63]             262,144\n",
      "│    │    └─BatchNorm1d: 3-73            [1, 1024, 63]             2,048\n",
      "│    │    └─Sequential: 3-74             [1, 1024, 63]             526,336\n",
      "│    │    └─ReLU: 3-75                   [1, 1024, 63]             --\n",
      "│    └─Bottleneck: 2-9                   [1, 1024, 63]             --\n",
      "│    │    └─Conv1d: 3-76                 [1, 256, 63]              262,144\n",
      "│    │    └─ReLU: 3-77                   [1, 256, 63]              --\n",
      "│    │    └─BatchNorm1d: 3-78            [1, 256, 63]              512\n",
      "│    │    └─Conv1d: 3-79                 [1, 256, 63]              196,608\n",
      "│    │    └─ReLU: 3-80                   [1, 256, 63]              --\n",
      "│    │    └─BatchNorm1d: 3-81            [1, 256, 63]              512\n",
      "│    │    └─Conv1d: 3-82                 [1, 1024, 63]             262,144\n",
      "│    │    └─BatchNorm1d: 3-83            [1, 1024, 63]             2,048\n",
      "│    │    └─ReLU: 3-84                   [1, 1024, 63]             --\n",
      "│    └─Bottleneck: 2-10                  [1, 1024, 63]             --\n",
      "│    │    └─Conv1d: 3-85                 [1, 256, 63]              262,144\n",
      "│    │    └─ReLU: 3-86                   [1, 256, 63]              --\n",
      "│    │    └─BatchNorm1d: 3-87            [1, 256, 63]              512\n",
      "│    │    └─Conv1d: 3-88                 [1, 256, 63]              196,608\n",
      "│    │    └─ReLU: 3-89                   [1, 256, 63]              --\n",
      "│    │    └─BatchNorm1d: 3-90            [1, 256, 63]              512\n",
      "│    │    └─Conv1d: 3-91                 [1, 1024, 63]             262,144\n",
      "│    │    └─BatchNorm1d: 3-92            [1, 1024, 63]             2,048\n",
      "│    │    └─ReLU: 3-93                   [1, 1024, 63]             --\n",
      "│    └─Bottleneck: 2-11                  [1, 1024, 63]             --\n",
      "│    │    └─Conv1d: 3-94                 [1, 256, 63]              262,144\n",
      "│    │    └─ReLU: 3-95                   [1, 256, 63]              --\n",
      "│    │    └─BatchNorm1d: 3-96            [1, 256, 63]              512\n",
      "│    │    └─Conv1d: 3-97                 [1, 256, 63]              196,608\n",
      "│    │    └─ReLU: 3-98                   [1, 256, 63]              --\n",
      "│    │    └─BatchNorm1d: 3-99            [1, 256, 63]              512\n",
      "│    │    └─Conv1d: 3-100                [1, 1024, 63]             262,144\n",
      "│    │    └─BatchNorm1d: 3-101           [1, 1024, 63]             2,048\n",
      "│    │    └─ReLU: 3-102                  [1, 1024, 63]             --\n",
      "│    └─Bottleneck: 2-12                  [1, 1024, 63]             --\n",
      "│    │    └─Conv1d: 3-103                [1, 256, 63]              262,144\n",
      "│    │    └─ReLU: 3-104                  [1, 256, 63]              --\n",
      "│    │    └─BatchNorm1d: 3-105           [1, 256, 63]              512\n",
      "│    │    └─Conv1d: 3-106                [1, 256, 63]              196,608\n",
      "│    │    └─ReLU: 3-107                  [1, 256, 63]              --\n",
      "│    │    └─BatchNorm1d: 3-108           [1, 256, 63]              512\n",
      "│    │    └─Conv1d: 3-109                [1, 1024, 63]             262,144\n",
      "│    │    └─BatchNorm1d: 3-110           [1, 1024, 63]             2,048\n",
      "│    │    └─ReLU: 3-111                  [1, 1024, 63]             --\n",
      "│    └─Bottleneck: 2-13                  [1, 1024, 63]             --\n",
      "│    │    └─Conv1d: 3-112                [1, 256, 63]              262,144\n",
      "│    │    └─ReLU: 3-113                  [1, 256, 63]              --\n",
      "│    │    └─BatchNorm1d: 3-114           [1, 256, 63]              512\n",
      "│    │    └─Conv1d: 3-115                [1, 256, 63]              196,608\n",
      "│    │    └─ReLU: 3-116                  [1, 256, 63]              --\n",
      "│    │    └─BatchNorm1d: 3-117           [1, 256, 63]              512\n",
      "│    │    └─Conv1d: 3-118                [1, 1024, 63]             262,144\n",
      "│    │    └─BatchNorm1d: 3-119           [1, 1024, 63]             2,048\n",
      "│    │    └─ReLU: 3-120                  [1, 1024, 63]             --\n",
      "│    └─Bottleneck: 2-14                  [1, 1024, 63]             --\n",
      "│    │    └─Conv1d: 3-121                [1, 256, 63]              262,144\n",
      "│    │    └─ReLU: 3-122                  [1, 256, 63]              --\n",
      "│    │    └─BatchNorm1d: 3-123           [1, 256, 63]              512\n",
      "│    │    └─Conv1d: 3-124                [1, 256, 63]              196,608\n",
      "│    │    └─ReLU: 3-125                  [1, 256, 63]              --\n",
      "│    │    └─BatchNorm1d: 3-126           [1, 256, 63]              512\n",
      "│    │    └─Conv1d: 3-127                [1, 1024, 63]             262,144\n",
      "│    │    └─BatchNorm1d: 3-128           [1, 1024, 63]             2,048\n",
      "│    │    └─ReLU: 3-129                  [1, 1024, 63]             --\n",
      "│    └─Bottleneck: 2-15                  [1, 1024, 63]             --\n",
      "│    │    └─Conv1d: 3-130                [1, 256, 63]              262,144\n",
      "│    │    └─ReLU: 3-131                  [1, 256, 63]              --\n",
      "│    │    └─BatchNorm1d: 3-132           [1, 256, 63]              512\n",
      "│    │    └─Conv1d: 3-133                [1, 256, 63]              196,608\n",
      "│    │    └─ReLU: 3-134                  [1, 256, 63]              --\n",
      "│    │    └─BatchNorm1d: 3-135           [1, 256, 63]              512\n",
      "│    │    └─Conv1d: 3-136                [1, 1024, 63]             262,144\n",
      "│    │    └─BatchNorm1d: 3-137           [1, 1024, 63]             2,048\n",
      "│    │    └─ReLU: 3-138                  [1, 1024, 63]             --\n",
      "│    └─Bottleneck: 2-16                  [1, 1024, 63]             --\n",
      "│    │    └─Conv1d: 3-139                [1, 256, 63]              262,144\n",
      "│    │    └─ReLU: 3-140                  [1, 256, 63]              --\n",
      "│    │    └─BatchNorm1d: 3-141           [1, 256, 63]              512\n",
      "│    │    └─Conv1d: 3-142                [1, 256, 63]              196,608\n",
      "│    │    └─ReLU: 3-143                  [1, 256, 63]              --\n",
      "│    │    └─BatchNorm1d: 3-144           [1, 256, 63]              512\n",
      "│    │    └─Conv1d: 3-145                [1, 1024, 63]             262,144\n",
      "│    │    └─BatchNorm1d: 3-146           [1, 1024, 63]             2,048\n",
      "│    │    └─ReLU: 3-147                  [1, 1024, 63]             --\n",
      "│    └─Bottleneck: 2-17                  [1, 1024, 63]             --\n",
      "│    │    └─Conv1d: 3-148                [1, 256, 63]              262,144\n",
      "│    │    └─ReLU: 3-149                  [1, 256, 63]              --\n",
      "│    │    └─BatchNorm1d: 3-150           [1, 256, 63]              512\n",
      "│    │    └─Conv1d: 3-151                [1, 256, 63]              196,608\n",
      "│    │    └─ReLU: 3-152                  [1, 256, 63]              --\n",
      "│    │    └─BatchNorm1d: 3-153           [1, 256, 63]              512\n",
      "│    │    └─Conv1d: 3-154                [1, 1024, 63]             262,144\n",
      "│    │    └─BatchNorm1d: 3-155           [1, 1024, 63]             2,048\n",
      "│    │    └─ReLU: 3-156                  [1, 1024, 63]             --\n",
      "│    └─Bottleneck: 2-18                  [1, 1024, 63]             --\n",
      "│    │    └─Conv1d: 3-157                [1, 256, 63]              262,144\n",
      "│    │    └─ReLU: 3-158                  [1, 256, 63]              --\n",
      "│    │    └─BatchNorm1d: 3-159           [1, 256, 63]              512\n",
      "│    │    └─Conv1d: 3-160                [1, 256, 63]              196,608\n",
      "│    │    └─ReLU: 3-161                  [1, 256, 63]              --\n",
      "│    │    └─BatchNorm1d: 3-162           [1, 256, 63]              512\n",
      "│    │    └─Conv1d: 3-163                [1, 1024, 63]             262,144\n",
      "│    │    └─BatchNorm1d: 3-164           [1, 1024, 63]             2,048\n",
      "│    │    └─ReLU: 3-165                  [1, 1024, 63]             --\n",
      "│    └─Bottleneck: 2-19                  [1, 1024, 63]             --\n",
      "│    │    └─Conv1d: 3-166                [1, 256, 63]              262,144\n",
      "│    │    └─ReLU: 3-167                  [1, 256, 63]              --\n",
      "│    │    └─BatchNorm1d: 3-168           [1, 256, 63]              512\n",
      "│    │    └─Conv1d: 3-169                [1, 256, 63]              196,608\n",
      "│    │    └─ReLU: 3-170                  [1, 256, 63]              --\n",
      "│    │    └─BatchNorm1d: 3-171           [1, 256, 63]              512\n",
      "│    │    └─Conv1d: 3-172                [1, 1024, 63]             262,144\n",
      "│    │    └─BatchNorm1d: 3-173           [1, 1024, 63]             2,048\n",
      "│    │    └─ReLU: 3-174                  [1, 1024, 63]             --\n",
      "│    └─Bottleneck: 2-20                  [1, 1024, 63]             --\n",
      "│    │    └─Conv1d: 3-175                [1, 256, 63]              262,144\n",
      "│    │    └─ReLU: 3-176                  [1, 256, 63]              --\n",
      "│    │    └─BatchNorm1d: 3-177           [1, 256, 63]              512\n",
      "│    │    └─Conv1d: 3-178                [1, 256, 63]              196,608\n",
      "│    │    └─ReLU: 3-179                  [1, 256, 63]              --\n",
      "│    │    └─BatchNorm1d: 3-180           [1, 256, 63]              512\n",
      "│    │    └─Conv1d: 3-181                [1, 1024, 63]             262,144\n",
      "│    │    └─BatchNorm1d: 3-182           [1, 1024, 63]             2,048\n",
      "│    │    └─ReLU: 3-183                  [1, 1024, 63]             --\n",
      "│    └─Bottleneck: 2-21                  [1, 1024, 63]             --\n",
      "│    │    └─Conv1d: 3-184                [1, 256, 63]              262,144\n",
      "│    │    └─ReLU: 3-185                  [1, 256, 63]              --\n",
      "│    │    └─BatchNorm1d: 3-186           [1, 256, 63]              512\n",
      "│    │    └─Conv1d: 3-187                [1, 256, 63]              196,608\n",
      "│    │    └─ReLU: 3-188                  [1, 256, 63]              --\n",
      "│    │    └─BatchNorm1d: 3-189           [1, 256, 63]              512\n",
      "│    │    └─Conv1d: 3-190                [1, 1024, 63]             262,144\n",
      "│    │    └─BatchNorm1d: 3-191           [1, 1024, 63]             2,048\n",
      "│    │    └─ReLU: 3-192                  [1, 1024, 63]             --\n",
      "│    └─Bottleneck: 2-22                  [1, 1024, 63]             --\n",
      "│    │    └─Conv1d: 3-193                [1, 256, 63]              262,144\n",
      "│    │    └─ReLU: 3-194                  [1, 256, 63]              --\n",
      "│    │    └─BatchNorm1d: 3-195           [1, 256, 63]              512\n",
      "│    │    └─Conv1d: 3-196                [1, 256, 63]              196,608\n",
      "│    │    └─ReLU: 3-197                  [1, 256, 63]              --\n",
      "│    │    └─BatchNorm1d: 3-198           [1, 256, 63]              512\n",
      "│    │    └─Conv1d: 3-199                [1, 1024, 63]             262,144\n",
      "│    │    └─BatchNorm1d: 3-200           [1, 1024, 63]             2,048\n",
      "│    │    └─ReLU: 3-201                  [1, 1024, 63]             --\n",
      "│    └─Bottleneck: 2-23                  [1, 1024, 63]             --\n",
      "│    │    └─Conv1d: 3-202                [1, 256, 63]              262,144\n",
      "│    │    └─ReLU: 3-203                  [1, 256, 63]              --\n",
      "│    │    └─BatchNorm1d: 3-204           [1, 256, 63]              512\n",
      "│    │    └─Conv1d: 3-205                [1, 256, 63]              196,608\n",
      "│    │    └─ReLU: 3-206                  [1, 256, 63]              --\n",
      "│    │    └─BatchNorm1d: 3-207           [1, 256, 63]              512\n",
      "│    │    └─Conv1d: 3-208                [1, 1024, 63]             262,144\n",
      "│    │    └─BatchNorm1d: 3-209           [1, 1024, 63]             2,048\n",
      "│    │    └─ReLU: 3-210                  [1, 1024, 63]             --\n",
      "│    └─Bottleneck: 2-24                  [1, 1024, 63]             --\n",
      "│    │    └─Conv1d: 3-211                [1, 256, 63]              262,144\n",
      "│    │    └─ReLU: 3-212                  [1, 256, 63]              --\n",
      "│    │    └─BatchNorm1d: 3-213           [1, 256, 63]              512\n",
      "│    │    └─Conv1d: 3-214                [1, 256, 63]              196,608\n",
      "│    │    └─ReLU: 3-215                  [1, 256, 63]              --\n",
      "│    │    └─BatchNorm1d: 3-216           [1, 256, 63]              512\n",
      "│    │    └─Conv1d: 3-217                [1, 1024, 63]             262,144\n",
      "│    │    └─BatchNorm1d: 3-218           [1, 1024, 63]             2,048\n",
      "│    │    └─ReLU: 3-219                  [1, 1024, 63]             --\n",
      "│    └─Bottleneck: 2-25                  [1, 1024, 63]             --\n",
      "│    │    └─Conv1d: 3-220                [1, 256, 63]              262,144\n",
      "│    │    └─ReLU: 3-221                  [1, 256, 63]              --\n",
      "│    │    └─BatchNorm1d: 3-222           [1, 256, 63]              512\n",
      "│    │    └─Conv1d: 3-223                [1, 256, 63]              196,608\n",
      "│    │    └─ReLU: 3-224                  [1, 256, 63]              --\n",
      "│    │    └─BatchNorm1d: 3-225           [1, 256, 63]              512\n",
      "│    │    └─Conv1d: 3-226                [1, 1024, 63]             262,144\n",
      "│    │    └─BatchNorm1d: 3-227           [1, 1024, 63]             2,048\n",
      "│    │    └─ReLU: 3-228                  [1, 1024, 63]             --\n",
      "│    └─Bottleneck: 2-26                  [1, 1024, 63]             --\n",
      "│    │    └─Conv1d: 3-229                [1, 256, 63]              262,144\n",
      "│    │    └─ReLU: 3-230                  [1, 256, 63]              --\n",
      "│    │    └─BatchNorm1d: 3-231           [1, 256, 63]              512\n",
      "│    │    └─Conv1d: 3-232                [1, 256, 63]              196,608\n",
      "│    │    └─ReLU: 3-233                  [1, 256, 63]              --\n",
      "│    │    └─BatchNorm1d: 3-234           [1, 256, 63]              512\n",
      "│    │    └─Conv1d: 3-235                [1, 1024, 63]             262,144\n",
      "│    │    └─BatchNorm1d: 3-236           [1, 1024, 63]             2,048\n",
      "│    │    └─ReLU: 3-237                  [1, 1024, 63]             --\n",
      "│    └─Bottleneck: 2-27                  [1, 1024, 63]             --\n",
      "│    │    └─Conv1d: 3-238                [1, 256, 63]              262,144\n",
      "│    │    └─ReLU: 3-239                  [1, 256, 63]              --\n",
      "│    │    └─BatchNorm1d: 3-240           [1, 256, 63]              512\n",
      "│    │    └─Conv1d: 3-241                [1, 256, 63]              196,608\n",
      "│    │    └─ReLU: 3-242                  [1, 256, 63]              --\n",
      "│    │    └─BatchNorm1d: 3-243           [1, 256, 63]              512\n",
      "│    │    └─Conv1d: 3-244                [1, 1024, 63]             262,144\n",
      "│    │    └─BatchNorm1d: 3-245           [1, 1024, 63]             2,048\n",
      "│    │    └─ReLU: 3-246                  [1, 1024, 63]             --\n",
      "│    └─Bottleneck: 2-28                  [1, 1024, 63]             --\n",
      "│    │    └─Conv1d: 3-247                [1, 256, 63]              262,144\n",
      "│    │    └─ReLU: 3-248                  [1, 256, 63]              --\n",
      "│    │    └─BatchNorm1d: 3-249           [1, 256, 63]              512\n",
      "│    │    └─Conv1d: 3-250                [1, 256, 63]              196,608\n",
      "│    │    └─ReLU: 3-251                  [1, 256, 63]              --\n",
      "│    │    └─BatchNorm1d: 3-252           [1, 256, 63]              512\n",
      "│    │    └─Conv1d: 3-253                [1, 1024, 63]             262,144\n",
      "│    │    └─BatchNorm1d: 3-254           [1, 1024, 63]             2,048\n",
      "│    │    └─ReLU: 3-255                  [1, 1024, 63]             --\n",
      "│    └─Bottleneck: 2-29                  [1, 1024, 63]             --\n",
      "│    │    └─Conv1d: 3-256                [1, 256, 63]              262,144\n",
      "│    │    └─ReLU: 3-257                  [1, 256, 63]              --\n",
      "│    │    └─BatchNorm1d: 3-258           [1, 256, 63]              512\n",
      "│    │    └─Conv1d: 3-259                [1, 256, 63]              196,608\n",
      "│    │    └─ReLU: 3-260                  [1, 256, 63]              --\n",
      "│    │    └─BatchNorm1d: 3-261           [1, 256, 63]              512\n",
      "│    │    └─Conv1d: 3-262                [1, 1024, 63]             262,144\n",
      "│    │    └─BatchNorm1d: 3-263           [1, 1024, 63]             2,048\n",
      "│    │    └─ReLU: 3-264                  [1, 1024, 63]             --\n",
      "│    └─Bottleneck: 2-30                  [1, 1024, 63]             --\n",
      "│    │    └─Conv1d: 3-265                [1, 256, 63]              262,144\n",
      "│    │    └─ReLU: 3-266                  [1, 256, 63]              --\n",
      "│    │    └─BatchNorm1d: 3-267           [1, 256, 63]              512\n",
      "│    │    └─Conv1d: 3-268                [1, 256, 63]              196,608\n",
      "│    │    └─ReLU: 3-269                  [1, 256, 63]              --\n",
      "│    │    └─BatchNorm1d: 3-270           [1, 256, 63]              512\n",
      "│    │    └─Conv1d: 3-271                [1, 1024, 63]             262,144\n",
      "│    │    └─BatchNorm1d: 3-272           [1, 1024, 63]             2,048\n",
      "│    │    └─ReLU: 3-273                  [1, 1024, 63]             --\n",
      "├─Sequential: 1-8                        [1, 2048, 32]             --\n",
      "│    └─Bottleneck: 2-31                  [1, 2048, 32]             --\n",
      "│    │    └─Conv1d: 3-274                [1, 512, 63]              524,288\n",
      "│    │    └─ReLU: 3-275                  [1, 512, 63]              --\n",
      "│    │    └─BatchNorm1d: 3-276           [1, 512, 63]              1,024\n",
      "│    │    └─Conv1d: 3-277                [1, 512, 32]              786,432\n",
      "│    │    └─ReLU: 3-278                  [1, 512, 32]              --\n",
      "│    │    └─BatchNorm1d: 3-279           [1, 512, 32]              1,024\n",
      "│    │    └─Conv1d: 3-280                [1, 2048, 32]             1,048,576\n",
      "│    │    └─BatchNorm1d: 3-281           [1, 2048, 32]             4,096\n",
      "│    │    └─Sequential: 3-282            [1, 2048, 32]             2,101,248\n",
      "│    │    └─ReLU: 3-283                  [1, 2048, 32]             --\n",
      "│    └─Bottleneck: 2-32                  [1, 2048, 32]             --\n",
      "│    │    └─Conv1d: 3-284                [1, 512, 32]              1,048,576\n",
      "│    │    └─ReLU: 3-285                  [1, 512, 32]              --\n",
      "│    │    └─BatchNorm1d: 3-286           [1, 512, 32]              1,024\n",
      "│    │    └─Conv1d: 3-287                [1, 512, 32]              786,432\n",
      "│    │    └─ReLU: 3-288                  [1, 512, 32]              --\n",
      "│    │    └─BatchNorm1d: 3-289           [1, 512, 32]              1,024\n",
      "│    │    └─Conv1d: 3-290                [1, 2048, 32]             1,048,576\n",
      "│    │    └─BatchNorm1d: 3-291           [1, 2048, 32]             4,096\n",
      "│    │    └─ReLU: 3-292                  [1, 2048, 32]             --\n",
      "│    └─Bottleneck: 2-33                  [1, 2048, 32]             --\n",
      "│    │    └─Conv1d: 3-293                [1, 512, 32]              1,048,576\n",
      "│    │    └─ReLU: 3-294                  [1, 512, 32]              --\n",
      "│    │    └─BatchNorm1d: 3-295           [1, 512, 32]              1,024\n",
      "│    │    └─Conv1d: 3-296                [1, 512, 32]              786,432\n",
      "│    │    └─ReLU: 3-297                  [1, 512, 32]              --\n",
      "│    │    └─BatchNorm1d: 3-298           [1, 512, 32]              1,024\n",
      "│    │    └─Conv1d: 3-299                [1, 2048, 32]             1,048,576\n",
      "│    │    └─BatchNorm1d: 3-300           [1, 2048, 32]             4,096\n",
      "│    │    └─ReLU: 3-301                  [1, 2048, 32]             --\n",
      "├─AdaptiveAvgPool1d: 1-9                 [1, 2048, 1]              --\n",
      "├─Linear: 1-10                           [1, 6]                    12,294\n",
      "├─Sigmoid: 1-11                          [1, 6]                    --\n",
      "==========================================================================================\n",
      "Total params: 28,278,918\n",
      "Trainable params: 28,278,918\n",
      "Non-trainable params: 0\n",
      "Total mult-adds (Units.GIGABYTES): 1.57\n",
      "==========================================================================================\n",
      "Input size (MB): 0.05\n",
      "Forward/backward pass size (MB): 56.49\n",
      "Params size (MB): 113.12\n",
      "Estimated Total Size (MB): 169.65\n",
      "==========================================================================================\n"
     ]
    }
   ],
   "source": [
    "model = ResNet(Bottleneck, [3, 4, 23, 3], num_classes=6).float()\n",
    "print(summary(model.to(device), (1,12,1000)))"
   ]
  },
  {
   "cell_type": "code",
   "execution_count": 10,
   "metadata": {},
   "outputs": [
    {
     "data": {
      "text/plain": [
       "['__annotations__',\n",
       " '__builtins__',\n",
       " '__call__',\n",
       " '__class__',\n",
       " '__closure__',\n",
       " '__code__',\n",
       " '__defaults__',\n",
       " '__delattr__',\n",
       " '__dict__',\n",
       " '__dir__',\n",
       " '__doc__',\n",
       " '__eq__',\n",
       " '__format__',\n",
       " '__ge__',\n",
       " '__get__',\n",
       " '__getattribute__',\n",
       " '__getstate__',\n",
       " '__globals__',\n",
       " '__gt__',\n",
       " '__hash__',\n",
       " '__init__',\n",
       " '__init_subclass__',\n",
       " '__kwdefaults__',\n",
       " '__le__',\n",
       " '__lt__',\n",
       " '__module__',\n",
       " '__name__',\n",
       " '__ne__',\n",
       " '__new__',\n",
       " '__qualname__',\n",
       " '__reduce__',\n",
       " '__reduce_ex__',\n",
       " '__repr__',\n",
       " '__setattr__',\n",
       " '__sizeof__',\n",
       " '__str__',\n",
       " '__subclasshook__']"
      ]
     },
     "execution_count": 10,
     "metadata": {},
     "output_type": "execute_result"
    }
   ],
   "source": [
    "dir(summary)"
   ]
  },
  {
   "cell_type": "code",
   "execution_count": 4,
   "metadata": {},
   "outputs": [
    {
     "data": {
      "text/plain": [
       "36.96811271783463"
      ]
     },
     "execution_count": 4,
     "metadata": {},
     "output_type": "execute_result"
    }
   ],
   "source": [
    "(4*1024-107.88)/107.88 #Max batch size"
   ]
  },
  {
   "cell_type": "code",
   "execution_count": 3,
   "metadata": {},
   "outputs": [],
   "source": [
    "train_loader = torch.utils.data.DataLoader(train_dataset, batch_size=64, shuffle = True)\n",
    "test_loader = torch.utils.data.DataLoader(test_dataset, batch_size = 64, shuffle=True)"
   ]
  },
  {
   "cell_type": "code",
   "execution_count": 4,
   "metadata": {},
   "outputs": [],
   "source": [
    "\"\"\"Test AUC metric\"\"\"\n",
    "ml_auroc = MultilabelAUROC(num_labels=len(diagSupclassDict), average=\"macro\", thresholds=None)\n",
    "# ml_auroc(model(X_train[0:10].to(device)), train_label_mapping[0:10].to(device).int())"
   ]
  },
  {
   "cell_type": "markdown",
   "metadata": {},
   "source": [
    "### Finding Max Learning rate"
   ]
  },
  {
   "cell_type": "code",
   "execution_count": 7,
   "metadata": {},
   "outputs": [],
   "source": [
    "criterion = nn.BCELoss()\n",
    "epochs = 10\n",
    "model = model = ResNet(Bottleneck, [3, 4, 23, 3], num_classes=6).float()\n",
    "model = model.to(device)\n",
    "lr = 1e-6\n",
    "optimizer = optim.Adam(model.parameters(), lr = lr, weight_decay=1e-4)"
   ]
  },
  {
   "cell_type": "code",
   "execution_count": 8,
   "metadata": {},
   "outputs": [
    {
     "data": {
      "image/png": "[encoded data removed]",
      "text/plain": [
       "<Figure size 640x480 with 1 Axes>"
      ]
     },
     "metadata": {},
     "output_type": "display_data"
    }
   ],
   "source": [
    "train_loss = []\n",
    "lrs = []\n",
    "\n",
    "for i, (signal, labels) in enumerate(train_loader):\n",
    "    signal = signal.to(device)\n",
    "    labels = labels.to(device)\n",
    "    output = model(signal)\n",
    "    loss = criterion(output, labels)\n",
    "    optimizer.zero_grad()\n",
    "    loss.backward()\n",
    "    train_loss.append(loss.item())\n",
    "    lrs.append(lr)\n",
    "    lr *= 1.1\n",
    "\n",
    "    for g in optimizer.param_groups:\n",
    "        g['lr'] = lr \n",
    "\n",
    "    optimizer.step()\n",
    "\n",
    "    if i > 200 or lr > 1:\n",
    "        break\n",
    "\n",
    "lrs = np.array(lrs)\n",
    "train_loss = np.array(train_loss)\n",
    "\n",
    "lr_max = lrs[np.where(train_loss == train_loss.min())[0]]\n",
    "\n",
    "fig = plt.figure()\n",
    "plt.plot(lrs, train_loss)\n",
    "plt.plot(lr_max, train_loss[lrs == lr_max], '.r')\n",
    "plt.show()\n"
   ]
  },
  {
   "cell_type": "code",
   "execution_count": 9,
   "metadata": {},
   "outputs": [
    {
     "data": {
      "application/vnd.jupyter.widget-view+json": {
       "model_id": "7c62c9c008454d6fbb76c74189be21d3",
       "version_major": 2,
       "version_minor": 0
      },
      "image/png": "[encoded data removed]",
      "text/html": [
       "\n",
       "            <div style=\"display: inline-block;\">\n",
       "                <div class=\"jupyter-widgets widget-label\" style=\"text-align: center;\">\n",
       "                    Figure\n",
       "                </div>\n",
       "                <img src='data:image/png;base64,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' width=640.0/>\n",
       "            </div>\n",
       "        "
      ],
      "text/plain": [
       "Canvas(toolbar=Toolbar(toolitems=[('Home', 'Reset original view', 'home', 'home'), ('Back', 'Back to previous …"
      ]
     },
     "metadata": {},
     "output_type": "display_data"
    }
   ],
   "source": [
    "%matplotlib widget\n",
    "fig = plt.figure()\n",
    "plt.plot(lrs, train_loss)\n",
    "plt.plot(lr_max, train_loss[lrs == lr_max], '.r')\n",
    "plt.show()"
   ]
  },
  {
   "cell_type": "code",
   "execution_count": 10,
   "metadata": {},
   "outputs": [
    {
     "data": {
      "text/plain": [
       "array([0.00025164])"
      ]
     },
     "execution_count": 10,
     "metadata": {},
     "output_type": "execute_result"
    }
   ],
   "source": [
    "lr_max"
   ]
  },
  {
   "cell_type": "code",
   "execution_count": 11,
   "metadata": {},
   "outputs": [],
   "source": [
    "lr_max = 0.135/10\n",
    "lr = lr_max\n",
    "epochs = 10\n",
    "criterion = nn.BCELoss()\n",
    "epochs = 10\n",
    "model = model = ResNet(Bottleneck, [3, 4, 23, 3], num_classes=6).float()\n",
    "model = model.to(device)\n",
    "optimizer = optim.Adam(model.parameters(), lr = lr, weight_decay=1e-4)\n",
    "\n",
    "for g in optimizer.param_groups:\n",
    "    g['lr'] = lr"
   ]
  },
  {
   "cell_type": "code",
   "execution_count": 12,
   "metadata": {},
   "outputs": [
    {
     "data": {
      "application/vnd.jupyter.widget-view+json": {
       "model_id": "11df51066ea84a6b99aadd96c589a4b8",
       "version_major": 2,
       "version_minor": 0
      },
      "image/png": "[encoded data removed]",
      "text/html": [
       "\n",
       "            <div style=\"display: inline-block;\">\n",
       "                <div class=\"jupyter-widgets widget-label\" style=\"text-align: center;\">\n",
       "                    Figure\n",
       "                </div>\n",
       "                <img src='data:image/png;base64,iVBORw0KGgoAAAANSUhEUgAAAoAAAAHgCAYAAAA10dzkAAAAOXRFWHRTb2Z0d2FyZQBNYXRwbG90bGliIHZlcnNpb24zLjYuMywgaHR0cHM6Ly9tYXRwbG90bGliLm9yZy/P9b71AAAACXBIWXMAAA9hAAAPYQGoP6dpAABeF0lEQVR4nO3de1xUZf4H8M/cmOE6clEQRQXRFFFRUEJBuy1eqs2ypMtS7bZttJoitZnabe23kV1dK3UrtbvShra2WYlbIgTeEPGGdxREEEGcQW7DMOf3BzJJoKICz8ycz/v1mld6eGbme87OOh/Oec73UUiSJIGIiIiIZEMpugAiIiIi6loMgEREREQywwBIREREJDMMgEREREQywwBIREREJDMMgEREREQywwBIREREJDMMgEREREQywwBIREREJDMMgEREREQywwBIREREJDMMgEREREQywwBIREREJDMMgEREREQywwBIREREJDMMgEREREQywwBIREREJDMMgEREREQywwBIREREJDMMgEREREQywwBIREREJDMMgEREREQywwBIREREJDMMgEREREQywwBIREREJDMMgEREREQywwBIREREJDMMgEREREQywwBIREREJDMMgEREREQywwBIREREJDMMgEREREQywwBIREREJDMMgEREREQywwBIREREJDMMgEREREQywwBIREREJDMMgEREREQywwBIREREJDMMgEREREQywwBIREREJDMMgEREREQywwBIREREJDMMgEREREQywwBIREREJDMMgEREREQywwBIREREJDMMgEREREQywwBIREREJDMMgEREREQywwBIREREJDMMgEREREQywwBIREREJDMMgEREREQywwBIREREJDMMgEREREQyoxZdgD2zWCw4deoU3N3doVAoRJdDRERE7SBJEqqqquDv7w+lUp7nwhgAr8OpU6cQEBAgugwiIiK6BkVFRejdu7foMoRgALwO7u7uAJo+QB4eHoKrISIiovYwGo0ICAiwfo/LkU0EwCVLluCNN95ASUkJhgwZgkWLFiEmJuaS49PT05GUlIR9+/bB398fzz77LBISEqw/37dvH1588UXk5OTgxIkTeOedd5CYmHjJ10tOTsa8efMwa9YsLFq0qN11N1/29fDwYAAkIiKyM3KeviX8wndKSgoSExMxf/585ObmIiYmBpMmTUJhYWGb4wsKCjB58mTExMQgNzcX8+bNw8yZM5GammodU1NTg6CgILz22mvw8/O77Ptv374dH3zwAYYNG9ah+0VERERkq4QHwLfffhuPPfYY/vznP2Pw4MFYtGgRAgICsHTp0jbHL1u2DH369MGiRYswePBg/PnPf8af/vQnvPnmm9Yxo0aNwhtvvIH7778fWq32ku99/vx5PPTQQ/jwww/h6enZ4ftGREREZIuEBkCTyYScnBzExsa22B4bG4usrKw2n5Odnd1q/IQJE7Bjxw40NDRc1ftPnz4dt99+O2677barK5yIiIjIjgmdA1heXo7Gxkb4+vq22O7r64vS0tI2n1NaWtrmeLPZjPLycvTs2bNd77169Wrs3LkT27dvb3e99fX1qK+vt/7daDS2+7lEREREtkL4JWCg9SRMSZIuOzGzrfFtbb+UoqIizJo1C59//jl0Ol2760xOToZer7c+2AKGiIiI7JHQAOjj4wOVStXqbF9ZWVmrs3zN/Pz82hyvVqvh7e3drvfNyclBWVkZwsPDoVaroVarkZ6ejsWLF0OtVqOxsbHN582dOxcGg8H6KCoqatf7EREREdkSoZeAnZycEB4ejrS0NNx9993W7WlpabjrrrvafE5UVBS+/fbbFts2bNiAiIgIaDSadr3vrbfeij179rTY9sc//hGDBg3CnDlzoFKp2nyeVqu97E0lRERERPZAeB/ApKQkxMfHIyIiAlFRUfjggw9QWFho7es3d+5cFBcX49NPPwUAJCQk4L333kNSUhIef/xxZGdnY/ny5Vi1apX1NU0mE/bv32/9c3FxMXbt2gU3NzcEBwfD3d0doaGhLepwdXWFt7d3q+1EREREjkZ4AIyLi0NFRQUWLFiAkpIShIaGYv369ejbty8AoKSkpEVPwMDAQKxfvx6zZ8/G+++/D39/fyxevBhTp061jjl16hRGjBhh/fubb76JN998E+PHj8emTZu6bN+IiIiIbJFCar6Dgq6a0WiEXq+HwWDgSiBERER2gt/fNnIXMBERERF1HQZAIiIiIplhACTZami04PUfDiD7aIXoUoiIiLoUAyDJ1tJNR7Fk01E88OEW0aUQERF1KeF3AROJ8s2uYuufD52uglqpgEalhFrV9F8XJxWcNap2rzBDRERkLxgASZYkScKxM9XWv8e+s7nNcSqlAm5aNdx1arhp1fDQaeDt5oTu7lp0d9M2/ffCo7enCzxdNAyMRERk8xgASZaOlJ23/tlDp4ZKqYC5UUKDxQJzowSzpak7UqNFgqG2AYbahna9rquTCgFeLgjwckGfC4/+3d0w0M8N3d20DIdERGQTGABJljIOlwMAYgb44LPHIlv9XJIk1Jgacb7ejKq6BhjrzDhfZ4axrgEV5004U1Xf9Djf9N/TxjqUVdWj2tSIA6VVOFBa1eo1u7loMNDXHQN93XCDrzuG9NIjpKcHdJq2lx4kIiLqLAyAJEsZh88AAKKDfdr8uUKhgKtWDVetGr4euna9Zl1DI05W1qKosgZFZ5sexytqcKTsPI5XVONcTQO2FZzFtoKz1ueolQoM9HXH8AA9hvXuhuG9u+EGP3eolDxTSEREnYcBkGTHZLZg64UQFj2g7QB4LXQaFYJ7uCG4h1urn9U1NOJI2XkcLqvCodPncaDEiD3FBpSfN2F/iRH7S4xYta0IAOCuVSOinydGB3ojMsgLQ3vpoVHxhn0iIuo4DIAkOzsLK1FjaoSPmxMG+3XNEkA6jQqhvfQI7aW3bpMkCacMddhddA55Jw3YffIc9pw0oKrejJ8PnsHPB5vOUjprVAjv64noAT4YP7A7Bvm5cy4hERFdFwZAkp3MC/P/xgb7QCnwUqtCoUCvbs7o1c0Zk4b2BNB000l+iRFbC85i67EKbDt+FudqGpB5pByZR8rx2vcH4OuhxfiB3TF+YA9EB/tA76IRtg9ERGSfGABJdjKONAXAS83/E0mlVFjPFD4WHQiLRcLhsvPIPlqOzYfLkXW0HKeN9fhqx0l8teMklApgVD8vTAz1w4QhfvDv5ix6F4iIyA4oJEmSRBdhr4xGI/R6PQwGAzw8uuZSIl2fczUmjHwlDRYJ2DL3Vvjp23eDh62oa2jEjuOV2HSwDOmHzuDwRe1sAGB4bz0mhPph4hA/BHVvPReRiIj4/Q3wDCDJTNbRClgkILiHm92FP6BpLmH0AB9ED/DB8wCKztZgw/7T+HFvKbafOIu8kwbknTTg9R8OYpCfO6aM6IW7wvzRU88zg0RE9CsGQJKVi/v/OYIALxc8Fh2Ix6IDcaaqHmn7T+OHfaXIPlqOA6VVeO37A1j4wwFEBnrh7hG9MDG0J/TOnDNIRCR3vAR8HXgK2f7EvP4Tis7WYsWjEbhlkK/ocjqNoaYB6/eWYG1ucYu+g05qJX432BdxowIQLfgmGCIiUfj9zTOAJCMnKqpRdLYWGpUCkYHeosvpVHoXDR4Y3QcPjO6Dk5U1WJd3Ct/kFuPQ6fP4bk8JvttTggAvZ8RFBOC+iIB2N7smIiLHwDOA14G/QdiXz7ecwPPf7MXoQC989USU6HK6nCRJ2F9ixFfbi7AmtxhVdWYATXce33xDDzwYGYCbBvbgWUEicnj8/uYZQJKR5uXfYmyw/UtXUCgUGOKvx9/v0uO5SYOxfk8JVm8vxPbjldiYfxob80+jn7cLHhnTD/eG94a7jnMFiYgcFc8AXgf+BmE/zI0WjHglDVV1ZnwzfSzCArqJLslmHD5dhVXbivDvnCLrWUE3rRr3RfTGo2P6oa+3q+AKiYg6Fr+/GQCvCz9A9mNnYSXuWZIFvbMGO1/4HVS8zNlKdb0Za3KL8fEvBTh6phoAoFAAt9zQA38ZF4TRgV5cgo6IHAK/v3kJmGSiefm3Mf29Gf4uwVWrRvyNffHQ6D7IOFKOlb8UYNPBM/jfgTL870AZwvt64snx/XHLIM4TJCKydwyAJAvNATDaQfr/dSalUnFhreHuOHbmPD7KLMDXO04i50Ql/vzpDtzg644nb+qPO4b1hFqlFF0uERFdA/7rTQ7vfL0ZOwsrAQAxwd0FV2Nfgrq74dW7hyJzzs14YnwQ3LRqHDxdhcSUXbjpzU34YusJmMwW0WUSEdFVYgAkh7flaAXMFgl9vFzQx9tFdDl2qYeHDnMnDcYvz92Cv024Ad6uTjhZWYv5a/filrc24avtRWhoZBAkIrIXDIDk8DKPONbybyLpnTWYfnMwMufcgpfuDEF3dy1OVtbi2dTduO3tdKTmnESjhfeVERHZOgZAcnjW/n8MgB3G2UmFP44NRMazN+P52wfD29UJJypq8PS/8/C7d9Lxn13FsDAIEhHZLAZAcminztXi6JlqKBVAVH8GwI6m06jw55ggZMy5GXMmDkI3Fw2OnanGrNW78Pv3M5F14ewrERHZFgZAcmjNd/8O690NemeubNFZXJzUePKm/sh49mY8/buBcNeqsbfYiAc/2opHV27DgVKj6BKJiOgiDIDk0DI4/69Lues0eOrWAdj0t5vw6Jh+UCsV2HTwDCb/MwPPfp2HUkOd6BKJiAgMgOTALBYJv1gDINu/dCVvNy1e/v0QbEwaj9uH9oRFAr7acRI3vfkz3vzxIGpMZtElEhHJGgMgOaz9JUacrTbB1UmFEX26iS5Hlvr5uOL9h0ZizV/HYFQ/T9Q1WPDez0dw61vpWJd3ClyJkohIDAZAcljN7V9uDPKGhitWCDWyjye+eiIKy/4Qjt6ezigx1GHmqlzE/WsL9p/i/EAioq7Gb0VyWFz+zbYoFApMDPXDxqTxePp3A6HTKLHt+Fnc8W4GXvhmLyqrTaJLJCKSDQZAckh1DY3YdvwsAN4AYmt0GhWeunUA/vf0TbhjWNP8wM+2nMDNb23Cqm2F7B9IRNQFGADJIW0rOAuT2YKeeh36d3cTXQ61oVc3Z7z34Eis/suNGOTnjnM1DZi7Zg+m/Ssbh05XiS6PiMihMQCSQ2qe/xcd7AOFQiG4GrqcG4O88d+novHCHSFwcVJhx4lKTP5nBt748QDqGhpFl0dE5JBsIgAuWbIEgYGB0Ol0CA8PR0ZGxmXHp6enIzw8HDqdDkFBQVi2bFmLn+/btw9Tp05Fv379oFAosGjRolavkZycjFGjRsHd3R09evTAlClTcPDgwY7cLRIog/P/7IpapcRj0YHYmDQevwvxhdki4f2fjyL2nc3YfOiM6PKIiByO8ACYkpKCxMREzJ8/H7m5uYiJicGkSZNQWFjY5viCggJMnjwZMTExyM3Nxbx58zBz5kykpqZax9TU1CAoKAivvfYa/Pz82nyd9PR0TJ8+HVu2bEFaWhrMZjNiY2NRXV3dKftJXedMVT3yS5ruLB0bzABoT/y7OePDhyPwr/hw+HnoUHi2Bg+v2IZZq3NRcb5edHlERA5DIQluxBUZGYmRI0di6dKl1m2DBw/GlClTkJyc3Gr8nDlzsG7dOuTn51u3JSQkIC8vD9nZ2a3G9+vXD4mJiUhMTLxsHWfOnEGPHj2Qnp6OcePGtat2o9EIvV4Pg8EADw+Pdj2HOt83ucVITNmFkJ4eWD8rRnQ5dI3O15vx1oaD+CTrOCwS4O3qhAV3heL2YT1Fl0ZEdo7f34LPAJpMJuTk5CA2NrbF9tjYWGRlZbX5nOzs7FbjJ0yYgB07dqChoeGaazEYDAAALy+va34Nsg3Nl39jBvLsnz1z06rx0p1D8M30sRjk546KahOmf7kTf/0iB+U8G0hEdF2EBsDy8nI0NjbC19e3xXZfX1+Ulpa2+ZzS0tI2x5vNZpSXl19THZIkISkpCdHR0QgNDb3kuPr6ehiNxhYPsi2SJCHzSNOcsZhgLv/mCIb17oZ1M6Ix85ZgqJUKrN9Tit+9nY5vuZIIEdE1Ez4HEECruzQlSbrsnZttjW9re3vNmDEDu3fvxqpVqy47Ljk5GXq93voICAi4pvejznOk7DxOG+uhVSsR0c9TdDnUQZzUSiTF3oBvpo/F4J4eqKxpwFOrcvHk5ztxpopnA4mIrpbQAOjj4wOVStXqbF9ZWVmrs3zN/Pz82hyvVqvh7e191TU89dRTWLduHX7++Wf07t37smPnzp0Lg8FgfRQVFV31+1Hnar78OzrQCzqNSnA11NFCe+nxn+ljkXjbAKiVCvywrxSx76Tjh70loksjIrIrQgOgk5MTwsPDkZaW1mJ7WloaxowZ0+ZzoqKiWo3fsGEDIiIioNFo2v3ekiRhxowZWLNmDX766ScEBgZe8TlarRYeHh4tHmRbMg43Xf6N5t2/DstJrUTibQOxbkY0Qi6cDUz4fCee+XceququfR4wEZGcCL8EnJSUhI8++ggrVqxAfn4+Zs+ejcLCQiQkJABoOuv28MMPW8cnJCTgxIkTSEpKQn5+PlasWIHly5fjmWeesY4xmUzYtWsXdu3aBZPJhOLiYuzatQtHjhyxjpk+fTo+//xzfPnll3B3d0dpaSlKS0tRW1vbdTtPHcpktmBrQfPyb5z/5+hC/D3wzfSx+OtN/aFQAF/nnMTkxRnYcWEJQCIiujThbWCApkbQr7/+OkpKShAaGop33nnH2orl0UcfxfHjx7Fp0ybr+PT0dMyePRv79u2Dv78/5syZYw2MAHD8+PE2z+iNHz/e+jqXmi+4cuVKPProo+2qm7eR25Ytxypw/wdb4OPmhG3zboNSyRVA5GJbwVnMTtmF4nO1UCqA6TcHY+atA6BRCf8dl4hsEL+/bSQA2it+gGzLmz8exHs/H8FdYf745/0jRJdDXcxY14CX1+3Dmp3FAIBhvfVYFBeGIK4FTUS/we9vG7gETNRRMi5a/5fkx0OnwdvTwvD+gyOhd9Zg90kDbl+cia9zTooujYjI5jAAkkM4V2PC7pPnAHD+n9zdPqwnfkwch7HB3qhtaMQz/85DUsouVNebRZdGRGQzGADJIWQdrYAkAQN6uMFPrxNdDgnmp9fh0z9F4pnYgVAqgDW5xbjz3UzsO2UQXRoRkU1gACSH0Nz/L3oAL/9SE5VSgRm3DEDKE1HoqdfhWHk17l6Shc+yj3MFESKSPQZAcgjW5d8YAOk3RvXzwvqZMbh1UA+YzBa88J99+OsXO2GoZc9AIpIvBkCyeycqqlF0thYalQKRgVe/Ggw5Pk9XJ3z0SAReuCMEGpUC3+8txe2LM7DnJC8JE5E8MQCS3dt84fLviD6ecNWqBVdDtkqhUOCx6EB8nTAGAV7OOFlZi6nLspCyvVB0aUREXY4BkOxe5oXl32LY/oXaYXhAN/x3xq+XhOek7sGcr3ejrqFRdGlERF2GAZDsmrnRgqyjFQCAmIFs/0Lto3fR4MOHI/BM7EAoFEDKjiLcuywLRWdrRJdGRNQlGADJru0uNqCqzgy9swZDe+lFl0N2RHnhLuFP/zQani4a7C024s73MrHpYJno0oiIOh0DINm1zAvz/8b094aKa//SNYgZ0B3/nRmD4b31OFfTgD9+vB3/3HgYFgtbxRCR42IAJLuWyf5/1AF6dXPGVwlReDCyDyQJeGfjITzxeQ7Oc/UQInJQDIBkt87Xm7GzsBIAEBPM+X90fbRqFV69eyjeuHcYnFRKpO0/jXuW/ILCCs4LJCLHwwBIdmvL0QqYLRL6erugj7eL6HLIQdwXEYCUJ25ED3ctDp0+j9+/n4msI+WiyyIi6lAMgGS3Mi98KUez/Qt1sBF9PPHtU9HWeYHxK7bh418KuIQcETkMBkCyWxmHufwbdR5fDx1SnojC3SN6odEi4eVv92Pumj0wmS2iSyMium4MgGSXTp2rxdEz1VAqgKj+DIDUOXQaFd6eNhzzJg+CUgGs3l6EBz/cgjNV9aJLIyK6LgyAZJea7/4d1rsb9M4awdWQI1MoFPjLuP5Y8egouOvU2HGiElPe/wWHTleJLo2I6JoxAJJdyrgw/28cL/9SF7nphh74ZvpYBPq4ovhcLaYuybJOQyAisjcMgGR3LBYJvzTfADKA7V+o6/Tv7oY1T47B6EAvVNWb8ejK7fhya6HosoiIrhoDINmd/SVGnK02wdVJhRF9uokuh2TG09UJnz022npzyLy1e/Dq+nyuHEJEdoUBkOxOc/uXG4O8oVHxI0xdT6tuujkk6XcDAQAfbD6GJ7/IQa2pUXBlRETtw29PsjvN8664/BuJpFAoMPPWAfjn/WFwUinx477TiPsgG2XGOtGlERFdEQMg2ZW6hkZsP35h+TfO/yMbcFdYL3z5eCQ8XTTYfdKAKe//gsO8Q5iIbBwDINmVbQVnYTJb0FOvQ//urqLLIQIARPTzwjfTxyKouytOGeowdWkWth8/K7osIqJLYgAku3Lx8m8KhUJwNUS/6uvtitSEMRjZpxuMdWY89NFW/LC3RHRZRERtYgAku5JxuLn9C+f/ke3xdHXCF3++EbcN9oXJbMGTX+zEZ9nHRZdFRNQKAyDZjTNV9cgvMQIAxgYzAJJtcnZSYdkfRuLByD6QJOCF/+zDGz8egCSxTQwR2Q4GQLIbzc2fh/h7wMdNK7gaoktTq5T4x5RQa5uY938+ir99vRsNjRbBlRERNWEAJLvBy79kT5rbxLx2z1ColAp8nXMSf/5kB6rrzaJLIyJiACT7IEkSMo809f+LCWb7F7If94/ugw/iw6HTKJF+6Awe/HALKqtNossiIpljACS7cKTsPE4b66FVKxHRz1N0OURX5dbBvlj1+I3wdNEg76QB0/6VjVIDG0YTkTgMgGQXmi//jg70gk6jElwN0dUb0ccTXz0RBT8PHQ6Xnce9y7JwvLxadFlEJFMMgGQXmpd/i+H8P7JjA3zd8e+EKPTzdsHJylrcuyzbemc7EVFXYgAkm2cyW7C1oGlVhWjO/yM7F+Dlgq8SojDIzx3l5+sR969s5JyoFF0WEckMAyDZvJ2FlagxNcLHzQmD/NxFl0N03Xq465DyRBTC+3rCWGfGHz7ais2Hzogui4hkhAGQbF7mhfl/Y4N9oFRy+TdyDHpnDT57bDTGD+yO2oZGPPbJdqzfw6XjiKhrMACSzcu4aP1fIkfi4qTGhw9H4PZhPdHQKGHGlzvx1Y4i0WURkQwwAJJNO1djwu6T5wAAMQM4/48cj5NaicX3j8ADo/vAIgHPfr0bn285IbosInJwNhEAlyxZgsDAQOh0OoSHhyMjI+Oy49PT0xEeHg6dToegoCAsW7asxc/37duHqVOnol+/flAoFFi0aFGHvC91vayjFZAkYEAPN/jpdaLLIeoUKqUCr94dij+NDQQAPP/NXizPLBBcFRE5MuEBMCUlBYmJiZg/fz5yc3MRExODSZMmobCwsM3xBQUFmDx5MmJiYpCbm4t58+Zh5syZSE1NtY6pqalBUFAQXnvtNfj5+XXI+5IYXP6N5EKhUOCFOwbjyZv6AwBe+e9+LNl0RHBVROSoFJIkSSILiIyMxMiRI7F06VLrtsGDB2PKlClITk5uNX7OnDlYt24d8vPzrdsSEhKQl5eH7OzsVuP79euHxMREJCYmXtf7tsVoNEKv18NgMMDDw6Ndz6GrE/P6Tyg6W4sVj0bglkG+ossh6nSSJOGf/zuMRRsPAwBm3ToAibcNgELBG6CIOgq/vwWfATSZTMjJyUFsbGyL7bGxscjKymrzOdnZ2a3GT5gwATt27EBDQ0OnvS8A1NfXw2g0tnhQ5zlRUY2is7XQqBSIDPQWXQ5Rl1AoFEi8bSCenXgDAOCf/zuM1388CMG/qxORgxEaAMvLy9HY2Ahf35Zndnx9fVFaWtrmc0pLS9scbzabUV5e3mnvCwDJycnQ6/XWR0BAQLvej67N5guXf0f08YSrVi24GqKu9debgvHCHSEAgKWbjuKV/+YzBBJRhxE+BxBAq0sbkiRd9nJHW+Pb2t7R7zt37lwYDAbro6iI7Ro6U+aF5d/Gcf4fydRj0YF4ZUooAGDFLwV44T97YbEwBBLR9RN6WsXHxwcqlarVWbeysrJWZ+ea+fn5tTlerVbD27t9lwmv5X0BQKvVQqvVtus96PqYGy3IOloBAIhm+xeSsfgb+0KrUmLOmt34fEshGswSku8ZyqboRHRdhJ4BdHJyQnh4ONLS0lpsT0tLw5gxY9p8TlRUVKvxGzZsQEREBDQaTae9L3Wt3cUGVNWZoXfWYGgvvehyiISaNioA70wLg1IBpOwowry1e3gmkIiui/CJVUlJSYiPj0dERASioqLwwQcfoLCwEAkJCQCaLrsWFxfj008/BdB0x+97772HpKQkPP7448jOzsby5cuxatUq62uaTCbs37/f+ufi4mLs2rULbm5uCA4Obtf7kljNy7+N6e8NFc90EGHKiF5QKIDZKbuwensRFAoF/jEllGcCieiaCA+AcXFxqKiowIIFC1BSUoLQ0FCsX78effv2BQCUlJS06M0XGBiI9evXY/bs2Xj//ffh7++PxYsXY+rUqdYxp06dwogRI6x/f/PNN/Hmm29i/Pjx2LRpU7vel8TKuDD/j/3/iH51V1gvSBKQ9NUurNpWCKUC+L8poWwRQ0RXTXgfQHvGPkKd43y9GWF/3wCzRULGszcjwMtFdElENmXNzpN4+t95kKSmOYIL7hrCEEh0Ffj9bSN3ARNdbMvRCpgtEvp6uzD8EbXhnpG98ca9w6FQAJ9tOYGX1+1jixgiuioMgGRzMo9cWP4tmJd/iS7l3vDeeH3qMCgUwCfZJ/D3b/czBBJRuzEAks1pnv8Xw/l/RJd1X0QAFt4zDADwcdZxLPgvQyARtQ8DINmUU+dqcfRMNZQKIKo/AyDRlUwbFYDX7hkKAFj5y3H833dcMYSIrowBkGxKc/uX4QHdoHduX19HIrm7f3QfJF8IgcszC/DWhkOCKyIiW8cASDYl48L8vxjO/yO6Kg+M7oNX7hoCAHjv5yN4/+cjgisiIlvGAEg2w2KR8EvzDSBc/o3oqsVH9cPcSYMAAG/8eBArMgsEV0REtooBkGzG/hIjzlab4Oqkwog+3USXQ2SXnhjfH7NuHQAAWPDf/Vi9rfAKzyAiOWIAJJvR3P7lxiBvaFT8aBJdq8TbBuAv44IAAHPX7sF/dhULroiIbA2/ZclmsP0LUcdQKBSYO2kQ4m/se2HpuDz8sLdUdFlEZEMYAMkm1DU0YvvxSgCc/0fUERQKBf7++yG4N7w3Gi0Snlq1E5sOlokui4hsBAMg2YRtBWdhMlvQU69D/+6uosshcghKpQILpw7D7cN6oqFRwhOf5SD7aIXosojIBjAAkk24ePk3LmpP1HFUSgUWxYXhtsE9UG+24LFPtiO3sFJ0WUQkGAMg2YSMw83tXzj/j6ijaVRKvPfgSMQM8EGNqRGPrtyOQ6erRJdFRAIxAJJwZ6rqkV9iBNB0BpCIOp5Oo8K/4sMxok83GGobEL98K4rO1ogui4gEYQAk4ZqbPw/x94C3m1ZwNUSOy8VJjZWPjsJAXzecNtYjfvlWnKmqF10WEQnAAEjC8fIvUdfp5uKEzx6LRG9PZxyvqMEjK7bBWNcguiwi6mIMgCSUJEnIPHKh/18w278QdQVfDx0+fywSPm5O2F9ixJ8/3oG6hkbRZRFRF2IAJKGOlJ3HaWM9tGolIvp5ii6HSDb6+bjikz+NhrtWjW3Hz2L6FzvR0GgRXRYRdREGQBJq84XLv6MDvaDTqARXQyQvQ/z1WP7oKGjVSvzvQBme/Xo3LBZJdFlE1AUYAEmoTC7/RiTU6EAvLHloJFRKBdbmFmPBf/dDkhgCiRwdAyAJYzJbsLXgLAAgmvP/iIS5dbAv3rpvOADg46zjWPy/I4IrIqLOxgBIwuwsrESNqRE+bk4Y5OcuuhwiWZsyohdeujMEAPDOxkP4cmuh4IqIqDMxAJIwmRfm/40N9oFSyeXfiET749hAPHVLMADg+W/2IG3/acEVEVFnYQAkYTIuWv+XiGxD0u8GYlpEb1gk4KlVO5FzgusGEzkiBkAS4lyNCbtPngMAxAzg/D8iW6FQKPCPu4fi5hu6o67Bgsc+2Y4jZedFl0VEHYwBkITIOloBSQIG9HCDn14nuhwiuohGpcT7D43E8IBuOFfTgEdWbMNpY53osoioAzEAkhBc/o3Itrk4qbHikQgE+rii+FwtHl25nUvGETkQBkASwrr8GwMgkc3ydtPikz+Oho+bFvklRiR8loN6M5eMI3IEDIDU5U5UVKPobC00KgUiA71Fl0NEl9HH2wUf/3EUXJ1UyDpagWf+zdVCiBwBAyB1uebl30b28YSrVi24GiK6ktBeeiyLD4daqcC3eaeQ/H2+6JKI6DoxAFKX4/JvRPYnZkB3vHHfMADAhxkF+CjjmOCKiOh6MABSlzI3WpB1tAIAEM32L0R25e4RvfHcpEEAgP/7Lh/f7S4RXBERXSsGQOpSu4sNqKozQ++swdBeetHlENFVemJcEB6J6gsAmP3VLjaKJrJTDIDUpZqXfxvT3xsqLv9GZHcUCgVevHMIbhvcAyazBY9/ugMnKqpFl0VEV4kBkLpUhnX+Hy//EtkrlVKBxQ+MwNBeepytNuGPK7ejstokuiwiugoMgNRlztebkVt4DgBvACGydy5Oaix/JAK9ujnjWHk1/vLZDtQ1sEcgkb1gAKQus+VoBcwWCX29XRDg5SK6HCK6Tj08dFj5x1Fw16qx/Xgl/vY1ewQS2QubCIBLlixBYGAgdDodwsPDkZGRcdnx6enpCA8Ph06nQ1BQEJYtW9ZqTGpqKkJCQqDVahESEoK1a9e2+LnZbMbzzz+PwMBAODs7IygoCAsWLIDFYunQfaNfZR65sPxbMM/+ETmKgb7uLXoEvpV2UHRJRNQOwgNgSkoKEhMTMX/+fOTm5iImJgaTJk1CYWFhm+MLCgowefJkxMTEIDc3F/PmzcPMmTORmppqHZOdnY24uDjEx8cjLy8P8fHxmDZtGrZu3Wods3DhQixbtgzvvfce8vPz8frrr+ONN97Au+++2+n7LFcZ7P9H5JDGBvvg1XuGAgDe//koUra3/e83EdkOhSRJQs/XR0ZGYuTIkVi6dKl12+DBgzFlyhQkJye3Gj9nzhysW7cO+fm/dqJPSEhAXl4esrOzAQBxcXEwGo34/vvvrWMmTpwIT09PrFq1CgBwxx13wNfXF8uXL7eOmTp1KlxcXPDZZ5+1q3aj0Qi9Xg+DwQAPD4+r23GZOXWuFmNe+wlKBZD7Yiz0zhrRJRFRB3t7w0Es/ukIVEoFVj46CuMG8mYvsk38/hZ8BtBkMiEnJwexsbEttsfGxiIrK6vN52RnZ7caP2HCBOzYsQMNDQ2XHXPxa0ZHR+N///sfDh06BADIy8tDZmYmJk+efN37Ra01t38ZHtCN4Y/IQc3+3UDcPaIXGi0S/vrFThwoNYouiYguQehCrOXl5WhsbISvr2+L7b6+vigtLW3zOaWlpW2ON5vNKC8vR8+ePS855uLXnDNnDgwGAwYNGgSVSoXGxkb84x//wAMPPHDJeuvr61FfX2/9u9HIf9zaK+PC/L8Yzv8jclgKhQKvTR2KU+dqsbXgLP64cju+mT4Wvh460aUR0W8InwMINP2jcTFJklptu9L4326/0mumpKTg888/x5dffomdO3fik08+wZtvvolPPvnkku+bnJwMvV5vfQQEBFx55wgWi4Rfmm8AYf8/IoemVavwQXwE+nd3RYmhDo9/ugO1JraHIbI1QgOgj48PVCpVq7N9ZWVlrc7gNfPz82tzvFqthre392XHXPyaf/vb3/Dcc8/h/vvvx9ChQxEfH4/Zs2e3Oe+w2dy5c2EwGKyPoqKiq9pfudpfYsTZahNcnVQY0aeb6HKIqJPpXTRY8egoeLposPukAc/8O4/tYYhsjNAA6OTkhPDwcKSlpbXYnpaWhjFjxrT5nKioqFbjN2zYgIiICGg0msuOufg1a2pqoFS23H2VSnXZNjBarRYeHh4tHnRlze1fovp7Q6OyiZPORNTJ+nq7YtkfwqFRKfDdnhIs2nhIdElEdBHh38ZJSUn46KOPsGLFCuTn52P27NkoLCxEQkICgKazbg8//LB1fEJCAk6cOIGkpCTk5+djxYoVWL58OZ555hnrmFmzZmHDhg1YuHAhDhw4gIULF2Ljxo1ITEy0jrnzzjvxj3/8A9999x2OHz+OtWvX4u2338bdd9/dZfsuF83tX9j/j0heIoO88erdTe1hFv90BN/kFguuiIiaCb0JBGhq2VJRUYEFCxagpKQEoaGhWL9+Pfr27QsAKCkpadETMDAwEOvXr8fs2bPx/vvvw9/fH4sXL8bUqVOtY8aMGYPVq1fj+eefxwsvvID+/fsjJSUFkZGR1jHvvvsuXnjhBfz1r39FWVkZ/P398cQTT+DFF1/sup2XgbqGRmw/XgmA8/+I5Oi+iAAcOXMe/0o/hmdTdyPAywXhfT1Fl0Uke8L7ANoz9hG6ss2HzuDhFdvQU69D1nO3XPbmHiJyTBaLhCc+z0Ha/tPwcXPCN9PHorcnl4Mkcfj9bQOXgMmxXbz8G8MfkTwplQosigtDSE8PlJ834bGPd+B8vVl0WUSyxgBInSrjQgPoGK4IQCRrrlo1lj8age7uWhw8XYWZq3LRyDuDiYRhAKROc6aqHvklTc2yx/b3FlwNEYnWU++Mjx6OgFatxE8HyvDq+vwrP4mIOgUDIHWa5ubPQ/w94O2mFVwNEdmC4QHd8Na04QCA5ZkFWLWt8ArPIKLOwABInab58m/0ALZ/IaJf3THMH7NvGwgAeOGbvcg6Wi64IiL5YQCkTiFJEjKPNPX/iwnm/D8iamnmrcH4/XB/mC0Snvx8J46XV4suiUhWGACpUxwpO4/Txnpo1UpE9GPPLyJqSaFQ4PV7hyEsoBsMtQ14/NMdqKprEF0WkWwwAFKn2Hzh8u/oQC/oNCrB1RCRLdJpVPggPhy+HlocLjuP2Sm7uGYwURdhAKROkXlh+bcYzv8josvo4aHDB/ERcFIrsTG/DG+lHRRdEpEsMABShzOZLdhacBYAEM35f0R0BcMDumHh1KY1g9//+Si+zTsluCIix8cASB1uZ2ElakyN8HFzwiA/d9HlEJEduHtEb/xlXBAA4G9f52FvsUFwRUSOjQGQOlzmhfl/Y4N9oFRy+Tciap85Ewdh/MDuqGuw4C+f7sCZqnrRJRE5LAZA6nAZ1vl/vPxLRO2nUiqw+IERCPJxxSlDHZ78PAcms0V0WUQOiQGQOtS5GhN2X7h0Ex3MG0CI6OronTX48JEIuOvU2HGiEi+t2wtJ4p3BRB2NAZA6VNbRCkgSMKCHG/z0OtHlEJEd6t/dDYsfGAGFAli1rQifbTkhuiQih8MASB2Ky78RUUe4+YYeeG7iIADA37/dz+XiiDoYAyB1GEmSLpr/xwBIRNfnL+OCcPeIXmi0SJj+xU4UVtSILonIYTAAUoc5UVGDk5W10KgUiAz0Fl0OEdk5hUKB5HuGYlhvPSprmpaLq643iy6LyCEwAFKHyTjSdIlmZB9PuGrVgqshIkfQtFxcBLq7a3HwdBWeTd3Nm0KIOgADIHUYLv9GRJ3BT6/D0odGQq1U4LvdJfhg8zHRJRHZPQZA6hDmRguyjlYAAKLZ/4+IOlhEPy+89PshAICFPxywNpwnomvDAEgdYnexAVV1ZuidNRjaSy+6HCJyQH+I7IP7wnvDIgEzVu1E0VneFEJ0rRgAqUP8uvybN1Rc/o2IOoFCocArU0IxrLce52oa8MRnOag1NYoui8guMQBSh2hu/xIdzMu/RNR5dBoVlv0hHN6uTthfYsS8tXt4UwjRNWAApOt2vt6M3MJzAHgDCBF1Pv9uznjvwZFQKRVYm1uMj7OOiy6JyO4wANJ123K0AmaLhL7eLgjwchFdDhHJQFR/b8ybPBgA8H/f5WPLsQrBFRHZFwZAum6ZF/r/RQfz7B8RdZ0/je2HKWH+1pVCTp2rFV0Skd1gAKTr9uvyb5z/R0Rdp2mlkGEI6emBimoTnvw8B3UNvCmEqD0YAOm6nDpXi6NnqqFUNF2SISLqSs5OKvwrPhzdXDTIO2nAi//Zy5tCiNqBAZCuS3P7l+EB3aB31giuhojkKMDLBe8+MAJKBfDVjpP4Ymuh6JKIbB4DIF2X5vV/Yzj/j4gEihnQHc9OHAQA+Pu3+5Bz4qzgiohsGwMgXTOLRcIvzTeAcP4fEQn2xLgg3D60JxoaJfz1i504U1UvuiQim8UASNdsf4kRZ6tNcHVSYUSfbqLLISKZUygUeP3eYQju4YbTxnrMXJULc6NFdFlENokBkK5ZxoX5f1H9vaFR8aNEROK5atVY9odwuDqpkH2sAm+lHRJdEpFN4rc2XbPMI83Lv3H+HxHZjuAeblh47zAAwNJNR7FhX6ngiohsDwMgXZO6hkZsP14JgPP/iMj23DHMH38aGwgAePqrPBwvrxZcEZFtYQCka7Kt4CxMZgt66nXo391VdDlERK3MnTwIEX09UVVvRsLnOag1sUk0UTMGQLomFy//plAoBFdDRNSaRqXE+w+NhI+bEw6UVmH+N3vYJJroAgZAuiabD11Y/m0gL/8Ske3y9dDh3QdGQqVUYM3OYny5jU2iiQAbCYBLlixBYGAgdDodwsPDkZGRcdnx6enpCA8Ph06nQ1BQEJYtW9ZqTGpqKkJCQqDVahESEoK1a9e2GlNcXIw//OEP8Pb2houLC8LCwpCTk9Nh++WozlTV40BpFQBgLJd/IyIbF9XfG89OuAEA8Pd1+5FXdE5sQUQ2QHgATElJQWJiIubPn4/c3FzExMRg0qRJKCxs+7e0goICTJ48GTExMcjNzcW8efMwc+ZMpKamWsdkZ2cjLi4O8fHxyMvLQ3x8PKZNm4atW7dax1RWVmLs2LHQaDT4/vvvsX//frz11lvo1q1bZ++y3Wtu/jzE3wPeblrB1RARXdlfxgUhNsQXpkYL/vrFTpytNokuiUgohSR4QkRkZCRGjhyJpUuXWrcNHjwYU6ZMQXJycqvxc+bMwbp165Cfn2/dlpCQgLy8PGRnZwMA4uLiYDQa8f3331vHTJw4EZ6enli1ahUA4LnnnsMvv/xyxbONl2M0GqHX62EwGODh4XHNr2Nvnv4qD6k7T+KJ8UGYO2mw6HKIiNrFWNeAu977BQXl1YgZ4IOP/zgaKiXnMMuRXL+/Lyb0DKDJZEJOTg5iY2NbbI+NjUVWVlabz8nOzm41fsKECdixYwcaGhouO+bi11y3bh0iIiJw3333oUePHhgxYgQ+/PDDy9ZbX18Po9HY4iE3kiRZ+//FBHP+HxHZDw+dBkv/MBI6jRIZh8ux+H+HRZdEJIzQAFheXo7Gxkb4+vq22O7r64vS0rYbd5aWlrY53mw2o7y8/LJjLn7NY8eOYenSpRgwYAB+/PFHJCQkYObMmfj0008vWW9ycjL0er31ERAQcFX76wiOlJ3HaWM9tGolIvp5ii6HiOiqDPLzQPI9QwEAi386jJ8PlgmuiEgM4XMAAbRqIyJJ0mVbi7Q1/rfbr/SaFosFI0eOxKuvvooRI0bgiSeewOOPP97iUvRvzZ07FwaDwfooKiq68s45mM0Xln8bHegFnUYluBoioqt394jeiL+xLyQJSFy9C0Vna0SXRNTlhAZAHx8fqFSqVmf7ysrKWp3Ba+bn59fmeLVaDW9v78uOufg1e/bsiZCQkBZjBg8efMmbTwBAq9XCw8OjxUNuMg9fuPw7gMu/EZH9ev6OwRge0A2G2gZM/3In6s1sEk3yIjQAOjk5ITw8HGlpaS22p6WlYcyYMW0+JyoqqtX4DRs2ICIiAhqN5rJjLn7NsWPH4uDBgy3GHDp0CH379r3m/XF0JrMFWwvOAgCiOf+PiOyYVq3CkodGopuLBrtPGpC8/oDokoi6lPBLwElJSfjoo4+wYsUK5OfnY/bs2SgsLERCQgKApsuuDz/8sHV8QkICTpw4gaSkJOTn52PFihVYvnw5nnnmGeuYWbNmYcOGDVi4cCEOHDiAhQsXYuPGjUhMTLSOmT17NrZs2YJXX30VR44cwZdffokPPvgA06dP77J9tzc7CytRY2qEj5sTBvm5iy6HiOi69OrmjHemhQEAPs46ju92l4gtiKgLCQ+AcXFxWLRoERYsWICwsDBs3rwZ69evt56JKykpaXFZNjAwEOvXr8emTZsQFhaGV155BYsXL8bUqVOtY8aMGYPVq1dj5cqVGDZsGD7++GOkpKQgMjLSOmbUqFFYu3YtVq1ahdDQULzyyitYtGgRHnrooa7beTuTefjX5d+UbJ1ARA7g5kE98ORN/QEAc1J3o6C8WnBFRF1DeB9Aeya3PkJ3vZeJvJMGvHnfcNwb3lt0OUREHcLcaMGDH27FtuNnEdLTA2v+OoY3uTk4uX1/t0X4GUCyD+dqTNhdbADQdAaQiMhRqFVKvPvgCHi7OmF/iRF//3a/6JKIOh0DILVL1tEKSBIwoIcb/PQ60eUQEXUoXw8dFt0fBoUCWLWtEN/kFosuiahTMQBSu2Q0z/9j+xciclAxA7pj5i0DAADz1u7BkbIqwRURdR4GQLoiSZKQcaH/37gBbP9CRI5r5q0DMDbYGzWmRvz1i52oMZlFl0TUKRgA6YpOVNTgZGUtNCoFIoO8RJdDRNRpVEoFFsWNQHd3LQ6dPo8X/7NPdElEnYIBkK4o40jT5d+RfTzh4qQWXA0RUefq7q7Fuw+MgFIBfJ1zEl/tkN+yn+T4GADpirj8GxHJzY1B3ng69gYAwAvf7MWBUqPgiog6FgMgXZa50YKsoxUAgGjO/yMiGXlyfH+MH9gd9WYL/vrFTpyv53xAchwMgHRZu4sNqKozQ++swdBeetHlEBF1GaVSgXfiwtBTr8OxM9WYu2YPuHYCOQoGQLqsjENN8//GBntDxeXfiEhmvFyd8N6DI6BWKvBt3il8sbXwyk8isgMMgHRZmUea5v9FB/PyLxHJU3hfL8yZOAgAsODb/dh7YVUkInvGAEiXdL7ejNzCcwB4AwgRydufYwJx22BfmBotmPEl5wOS/WMApEvacrQCZouEvt4uCPByEV0OEZEwCoUCb943DP56HY5X1OD5tZwPSPaNAZAuKfNC/z+e/SMiArq5OGHxAyOgUirwza5T+HfOSdElEV0zBkC6pObl3zj/j4ioSUQ/LyT9biAA4MX/7MXh01wvmOwTAyC16dS5Whw9Uw2lAojq7y26HCIim/Hk+P6IGeCDugYLZnyZi7qGRtElEV01BkBqU+bhpsu/wwO6Qe+sEVwNEZHtUCoVeHtaGHzctDh4ugp//3a/6JKIrhoDILWpef3fmGDO/yMi+q3u7lr88/4wKBTAqm2F+DbvlOiSiK4KAyC1YrFI+OVCAOTyb0REbRsb7IPpNwUDAOau2YMTFdWCKyJqPwZAamV/iRFnq01wdVJhRJ9uosshIrJZibcNwKh+njhfb8aML3NRb+Z8QLIPDIDUSsaF+X9R/b2hUfEjQkR0KWqVEv+8fwS6uWiwp9iAhd8fFF0SUbvw251a+XX5N87/IyK6Ev9uznjz3uEAgBW/FCBt/2nBFRFdGQMgtVDX0IjtxysBcP4fEVF73Rbiiz+NDQQA/O3rPJw6Vyu4IqLLYwCkFrYVnIXJbEFPvQ79u7uKLoeIyG48N2kQhvXW41xNA2auyoW50SK6JKJLYgCkFi5e/k2hUAiuhojIfjiplXj3gRFw06qx40QlFm08LLokoktiAKQWNh+6MP+Pl3+JiK5aX29XJN8zFADw/qYj1qb6RLaGAZCszlTV40Bp07qWY7n8GxHRNblzuD8eGB0ASQISU3bhTFW96JKIWmEAJKvm5s9D/D3g7aYVXA0Rkf168Y4huMHXHeXn65H01S5YLJLokohaYAAkq+b+f9ED2P6FiOh6ODup8N6DI6DTKJFxuBwfZhwTXRJRCwyABACQJMna/28c5/8REV23Ab7ueOnOIQCAN348iLyic2ILIroIAyABAA6XncdpYz20aiXC+3qKLoeIyCHcPyoAk4f6wWyRMHN1Ls7Xm0WXRASAAZAuaL78OzrQCzqNSnA1RESOQaFQIPnuYejVzRknKmrw4jd7RZdEBIABkC7IPNx0+TeG8/+IiDqU3kWDRfeHQakA1uQWY23uSdElETEAEmAyW7C14CwAIDqY8/+IiDraqH5emHnrAADA82v34kRFteCKSO4YAAk7CytRY2qEj5sWg/zcRZdDROSQZtwcjNH9vFBtasTMVbkwmblUHInDAEjWTvXRwd5QKrn8GxFRZ1CrlHjn/jB46NTIO2nA22mHRJdEMsYASMg4zOXfiIi6Qq9uzlg4dRgA4F+bj3KpOBKGAVDmztWYsLvYAACIDuYNIEREnW3S0J54YHQfSBIw+6tdqDjPpeKo69lEAFyyZAkCAwOh0+kQHh6OjIyMy45PT09HeHg4dDodgoKCsGzZslZjUlNTERISAq1Wi5CQEKxdu/aSr5ecnAyFQoHExMTr3RW7k3W0ApIEDOjhBj+9TnQ5RESy8OIdIQju4YYzVfX429e7IUlcKo66lvAAmJKSgsTERMyfPx+5ubmIiYnBpEmTUFhY2Ob4goICTJ48GTExMcjNzcW8efMwc+ZMpKamWsdkZ2cjLi4O8fHxyMvLQ3x8PKZNm4atW7e2er3t27fjgw8+wLBhwzptH21Zc/+/GF7+JSLqMs5OKrz7wAg4qZX46UAZPs46LrokkhmFJPjXjsjISIwcORJLly61bhs8eDCmTJmC5OTkVuPnzJmDdevWIT8/37otISEBeXl5yM7OBgDExcXBaDTi+++/t46ZOHEiPD09sWrVKuu28+fPY+TIkViyZAn+7//+D2FhYVi0aFG7azcajdDr9TAYDPDw8Lia3bYJkiQh5vWfcbKyFisfHYWbB/UQXRIRkax8knUcL63bByeVEt9MH4sQf/v7LrFH9v793RGEngE0mUzIyclBbGxsi+2xsbHIyspq8znZ2dmtxk+YMAE7duxAQ0PDZcf89jWnT5+O22+/Hbfddtv17opdOlFRg5OVtdCoFIgM8hJdDhGR7Dwc1Re3De4BU6MFT63aiRoTl4qjriE0AJaXl6OxsRG+vr4ttvv6+qK0tLTN55SWlrY53mw2o7y8/LJjLn7N1atXY+fOnW2eZbyU+vp6GI3GFg97lnGk6XiN7OMJFye14GqIiORHoVDg9XuHw9dDi6NnqvHKf/eLLolkQvgcQKDp/wAXkySp1bYrjf/t9su9ZlFREWbNmoXPP/8cOl37b3xITk6GXq+3PgICAtr9XFvE5d+IiMTzcnXCO9PCoFAAq7YVYf2eEtElkQwIDYA+Pj5QqVStzvaVlZW1OoPXzM/Pr83xarUa3t7elx3T/Jo5OTkoKytDeHg41Go11Go10tPTsXjxYqjVajQ2Nrb53nPnzoXBYLA+ioqKrmm/bYG50YKsoxUAeAMIEZFoY4J98OT4/gCA51J342RljeCKyNEJDYBOTk4IDw9HWlpai+1paWkYM2ZMm8+JiopqNX7Dhg2IiIiARqO57Jjm17z11luxZ88e7Nq1y/qIiIjAQw89hF27dkGlUrX53lqtFh4eHi0e9mp3sQFVdWbonTUI7aUXXQ4RkezN/t1AhAV0g7HOjMTVu2Bu5FJx1HmEXwJOSkrCRx99hBUrViA/Px+zZ89GYWEhEhISADSddXv44Yet4xMSEnDixAkkJSUhPz8fK1aswPLly/HMM89Yx8yaNQsbNmzAwoULceDAASxcuBAbN2609vlzd3dHaGhoi4erqyu8vb0RGhrapfsvSsahpvl/Y4O9oeLyb0REwmlUSiy+fwTctGrsOFGJd386IrokcmDCA2BcXBwWLVqEBQsWICwsDJs3b8b69evRt29fAEBJSUmLnoCBgYFYv349Nm3ahLCwMLzyyitYvHgxpk6dah0zZswYrF69GitXrsSwYcPw8ccfIyUlBZGRkV2+f7Yq88iF5d+CefmXiMhW9PF2wT/ubjoR8e5Ph5Fz4qzgishRCe8DaM/stY/Q+Xozwv6+AWaLhIxnb0aAl4vokoiI6CKzU3ZhbW4xArycsX5mDNx1GtElORR7/f7uSMLPAFLX23K0AmaLhH7eLgx/REQ26O93DUFvT2cUna3FS+v2iS6HHBADoAxlXuj/F832L0RENslDp8GiuDAoFcCancVYl3dKdEnkYBgAZWjzYc7/IyKydRH9vDDjlgEAgPlr97A1DHUoBkCZOXWuFsfOVEOpAKL6e4suh4iILmPmLcEY0acbqurMSErJQ6OF0/apYzAAykzm4abLv8MDukHvzEnFRES2TK1S4p9xI+DqpMK242exLP2o6JLIQTAAykzz+r8xwZz/R0RkD/p4u2DBXU2tYd5JO4RdRefEFkQOgQFQRiwWCb80B8CBnP9HRGQv7hnZC3cM6wmzRULi6lxU15tFl0R2jgFQRvaXGHG22gQ3rRphAd1El0NERO2kUCjwjylD4a/X4XhFDRZ8u190SWTnGABlJOPC/L8bg7ygUfF/eiIie6J30eDtuDAoFEDKjiJ8v6dEdElkx5gCZOTX5d84/4+IyB7dGOSNJ8f3BwA8t2YPSgy1gisie8UAKBN1DY3YfrwSABA9gPP/iIjsVeJtAzGstx6G2gY8/VUeLGwNQ9eAAVAmthWchclsgb9eh/7dXUWXQ0RE18hJrcQ/7x8BZ40KWUcr8FHmMdElkR1iAJSJi5d/UygUgqshIqLrEejjipd/HwIAeOPHg9hbbBBcEdkbBkCZ2Hzowvw/Xv4lInII0yICMHGIHxoaJcxanYtaU6PoksiOMADKwJmqehworQIAjOXyb0REDkGhUCD5nqHw9dDi6Jlq/N93bA1D7ccAKAPNzZ+H+HvA200ruBoiIuoonq5OeHtaGADgi62FSNt/WmxBZDcYAGWguf9fDC//EhE5nLHBPvjLuCAAwJzU3Sgz1gmuiOwBA6CDkyTJ2v8vZgD7/xEROaKnYwcipKcHzlab8PS/2RqGrowB0MEdLjuP08Z6aNVKhPf1FF0OERF1Aq1ahcUPhEGnUSLjcDlWZh0XXRLZOAZAB9d8+Xd0oBd0GpXgaoiIqLME93DH/NubWsMs/OEADl64+Y+oLQyADi7zMC//EhHJxR8i++CWQT1gMluQmLIL9Wa2hqG2MQA6MJPZgq0FZwHwBhAiIjlQKBR4bepQeLk6Ib/EiLfTDokuiWwUA6AD21lYiRpTI3zctBjk5y66HCIi6gI93HV47Z6hAIAPNh/DlmMVgisiW8QA6MAyLlz+jQ725vJvREQyEjvED/ePCoAkAU9/lQdjXYPoksjGMAA6sMzDzev/8vIvEZHcvHBHCPp6u6D4XC1e+s8+0eWQjWEAdFDnakzYfWFx8Ohg3gBCRCQ3rlo13p4WBqUCWJtbjG/zTokuiWwIA6CDyjpaAUkCBvq6wU+vE10OEREJEN7XEzNuGQAAmL92D0oMtYIrIlvBAOigmvv/RQfz8i8RkZw9dUswhvfWw1hnxjNcJYQuYAB0QJIkWW8AYf8/IiJ506iUeCcuDM4aFX45UsFVQggAA6BDOlFRg5OVtdCoFIgM8hJdDhERCRbU3Q3zbx8MgKuEUBMGQAeUcaTp8u/IPp5wcVILroaIiGzBQxetEjJrdS5XCZE5BkAH1Lz827iBnP9HRERNFAoFFk4dBm9XJxworcLbG7hKiJwxADoYc6MFWUebur6z/QsREV2su7sWr00dBgD4IOMYso9ylRC5YgB0MLuLDaiqM0PvrEFoL73ocoiIyMb8LsT3olVCdsFQy1VC5IgB0MFkHGqa/zc22BsqJZd/IyKi1ppXCTllqMNL/9kruhwSgAHQwWQeaV7/l/P/iIioba5aNd6JC4NKqcA3u05hHVcJkR0GQAdyvt6M3MJzANj/j4iILm9kH09MvzkYAPD82j04dY6rhMgJA6AD2XK0AmaLhH7eLgjwchFdDhER2TiuEiJfDIAOJPNC/79onv0jIqJ2uHiVkKyjFVjxS4HokqiL2EQAXLJkCQIDA6HT6RAeHo6MjIzLjk9PT0d4eDh0Oh2CgoKwbNmyVmNSU1MREhICrVaLkJAQrF27tsXPk5OTMWrUKLi7u6NHjx6YMmUKDh482KH71dU2H+b8PyIiujoXrxLy+o8HcaDUKLgi6grCA2BKSgoSExMxf/585ObmIiYmBpMmTUJhYWGb4wsKCjB58mTExMQgNzcX8+bNw8yZM5Gammodk52djbi4OMTHxyMvLw/x8fGYNm0atm7dah2Tnp6O6dOnY8uWLUhLS4PZbEZsbCyqq6s7fZ87w6lztTh2phpKBRDV31t0OUREZEcuXiUkcfUurhIiAwpJkoRe8I+MjMTIkSOxdOlS67bBgwdjypQpSE5ObjV+zpw5WLduHfLz863bEhISkJeXh+zsbABAXFwcjEYjvv/+e+uYiRMnwtPTE6tWrWqzjjNnzqBHjx5IT0/HuHHj2lW70WiEXq+HwWCAh4dHu57TWb7aXoRnU3djRJ9uWPvXsUJrISIi+3Omqh4TF21GRbUJfxkXhHmTB4suqdPY0ve3KELPAJpMJuTk5CA2NrbF9tjYWGRlZbX5nOzs7FbjJ0yYgB07dqChoeGyYy71mgBgMBgAAF5eXpccU19fD6PR2OJhK5rX/40ZwMu/RER09S5eJeTDjGPIOlouuCLqTEIDYHl5ORobG+Hr69tiu6+vL0pLS9t8TmlpaZvjzWYzysvLLzvmUq8pSRKSkpIQHR2N0NDQS9abnJwMvV5vfQQEBFxxH7uCxSLhF2sA5A0gRER0bS5eJeSZr/K4SogDEz4HEGhaoPpikiS12nal8b/dfjWvOWPGDOzevfuSl4ebzZ07FwaDwfooKiq67Piusr/EiLPVJrhp1QgL6Ca6HCIismMXrxLy8rp9osuhTiI0APr4+EClUrU6M1dWVtbqDF4zPz+/Nser1Wp4e3tfdkxbr/nUU09h3bp1+Pnnn9G7d+/L1qvVauHh4dHiYQsyDjed/bsxyAsalU1keiIislOuWjXenhYGpQJYm1uM9XtKRJdEnUBoWnByckJ4eDjS0tJabE9LS8OYMWPafE5UVFSr8Rs2bEBERAQ0Gs1lx1z8mpIkYcaMGVizZg1++uknBAYGdsQuCfHr8m+8/EtERNcvvK8nnrypPwBg3to9KDPWCa6IOprw00VJSUn46KOPsGLFCuTn52P27NkoLCxEQkICgKbLrg8//LB1fEJCAk6cOIGkpCTk5+djxYoVWL58OZ555hnrmFmzZmHDhg1YuHAhDhw4gIULF2Ljxo1ITEy0jpk+fTo+//xzfPnll3B3d0dpaSlKS0tRW2tfS+HUNTRi+/FKAEDMQN4AQkREHWPWrQMxxN8D52oa8GzqbghuGkIdTHgAjIuLw6JFi7BgwQKEhYVh8+bNWL9+Pfr27QsAKCkpadETMDAwEOvXr8emTZsQFhaGV155BYsXL8bUqVOtY8aMGYPVq1dj5cqVGDZsGD7++GOkpKQgMjLSOmbp0qUwGAy46aab0LNnT+sjJSWl63a+A2wrOAuT2QJ/vQ5BPq6iyyEiIgfhpG5aJcRJrcSmg2fw5ba2+/OSfRLeB9Ce2UIfoX98tx8fZhRgWkRvvH7vcCE1EBGR4/oo4xj+77t8OGtU+H5WDPo5wMkGW/j+Fk34GUC6Ps03gESz/x8REXWCP40NRFSQN2obGpH01S6YGy2iS6IOwABox85U1eNAaRUAYCyXfyMiok6gVCrw5rThcNeqsbPwHP61+ZjokqgDMADasebmz6G9PODtphVcDREROape3Zzx8u+HAADeSTuEvcUGwRXR9WIAtGPWy7/BvPxLRESd656RvTBxiB/MFgmzU3ahrqFRdEl0HRgA7ZQkSdb+f1z+jYiIOptCocCr9wyFj5sWh8vO440fD4ouia4DA6CdOlx2HqeN9dCqlQjv6ym6HCIikgEvVye8fu9QAMDyzAJkHS0XXBFdKwZAO9V8+Xd0oBd0GpXgaoiISC5uGeSLB0YHAACe+SoPxroGwRXRtWAAtFOZh5su/45j+xciIupiz98egj5eLjhlqMPL6/aJLoeuAQOgHTKZLdhacBYAEM35f0RE1MVctWq8PW04lApgzc5i/LC3RHRJdJUYAO3QzsJK1Jga4eOmxSA/d9HlEBGRDEX088IT4/sDAOau2YOyqjrBFdHVYAC0QxkXLv9GB3tDoVAIroaIiORq9m0DMbinByprGvBc6h5wdVn7wQBohzK5/BsREdkAJ7USi+LC4KRS4qcDZVi9vUh0SdRODIB25lyNCbsvdGBn/z8iIhLtBj93PDNhIADglf/ux4mKasEVUXswANqZrKMVkCRgoK8bfD10osshIiLCY9FBGB3ohRpTI57+Kg+NFl4KtnUMgHaGy78REZGtUSkVeOu+4XDTqrHjRCX+tfmo6JLoChgA7YgkSdYbQHj5l4iIbEmAlwtevDMEAPBO2iHsO2UQXBFdDgOgHTlRUYOTlbXQqBSIDPISXQ4REVEL94X3xu9CfNHQKCEpJQ91DY2iS6JLYAC0IxlHmi7/juzjCRcnteBqiIiIWlIoFEi+Zyh83Jxw8HQV3k47JLokugQGQDtiXf5tIOf/ERGRbfJx0+K1e4YBAD7MOIYtxyoEV0RtYQC0E+ZGC7KONv2fKDqY8/+IiMh23Rbii7iIAEgS8PRXeaiqaxBdEv0GA6CdyDtpQFWdGXpnDUJ76UWXQ0REdFkv3BmCAC9nFJ+rxYJv94suh36DAdBONK/+MTbYGyoll38jIiLb5qZV4637wqBQAP/OOYkN+0pFl0QXYQC0E5lHmtf/5fw/IiKyD6MDvfCXcUEAgLlr9qD8fL3giqgZA6AdOF9vRm7hOQDs/0dERPYl6XcDMcjPHRXVJjyXugeSxFVCbAEDoB3YcrQCZouEft4uCPByEV0OERFRu2nVKrwTFwYnlRIb80/j3ztOii6JwABoFzIv9P+L5tk/IiKyQ4N7eiApdiAA4O/f7kPR2RrBFREDoB3YfJjz/4iIyL49HhOE0f28UG1qxNNf5aHRwkvBIjEA2rhT52px7Ew1lAogqr+36HKIiIiuiUqpwFvThsPVSYVtx8/iw4xjokuSNQZAG9fc/iUsoBv0zhrB1RAREV27AC8XvHhnCADg7Q2HkF9iFFyRfDEA2rgM6/w/Xv4lIiL7Ny0iALcN7gFTowWzU3ah3twouiRZYgC0YRaLhF8uBEC2fyEiIkegUCiQfM8weLk64UBpFf658bDokmSJAdCG7S8x4my1CW5aNcICuokuh4iIqEN0d9fi1buHAgCWpR9FzomzgiuSHwZAG5ZxYf7fjUFe0Kj4PxURETmOiaF+uGdkL1gkIOmrPFTXm0WXJCtMFTasefm3GM7/IyIiB/Ty74fAX6/DiYoavLo+X3Q5ssIAaKPqGhqx/XglADaAJiIix+Sh0+DN+4YDAL7YWoifD5YJrkg+GABt1LaCszCZLfDX6xDk4yq6HCIiok4xJtgHfxzbDwAw5+vdOFdjEluQTDAA2qiM5tU/BvhAoVAIroaIiKjzzJk4CP27u6Ksqh7Pf7NXdDmywABoo5pvAGH/PyIicnQ6jQpvTwuDSqnAf3eXYF3eKdElOTybCIBLlixBYGAgdDodwsPDkZGRcdnx6enpCA8Ph06nQ1BQEJYtW9ZqTGpqKkJCQqDVahESEoK1a9de9/t2lTNV9ThQWgWFAogO5vw/IiJyfMMDuuGpW4IBAC98sxelhjrBFTk24QEwJSUFiYmJmD9/PnJzcxETE4NJkyahsLCwzfEFBQWYPHkyYmJikJubi3nz5mHmzJlITU21jsnOzkZcXBzi4+ORl5eH+Ph4TJs2DVu3br3m9+1Kzc2fh/h7wMvVSXA1REREXWP6zcEY1lsPQ20Dnk3dDUmSRJfksBSS4KMbGRmJkSNHYunSpdZtgwcPxpQpU5CcnNxq/Jw5c7Bu3Trk5/96u3hCQgLy8vKQnZ0NAIiLi4PRaMT3339vHTNx4kR4enpi1apV1/S+bTEajdDr9TAYDPDw8Li6Hb+M51J3Y/X2IiSM74/nJg3qsNclIiKydUfKzuP2xRmoN1vwypRQxN/Yt8Pfo7O+v+2J0DOAJpMJOTk5iI2NbbE9NjYWWVlZbT4nOzu71fgJEyZgx44daGhouOyY5te8lvftSq9MCcXXCVG4f1SA6FKIiIi6VHAPN+vJj1e/y0dBebXgihyT0ABYXl6OxsZG+Pr6ttju6+uL0tLSNp9TWlra5niz2Yzy8vLLjml+zWt5XwCor6+H0Whs8egMGpUSEf280I/tX4iISIYeieqHMf29UdvQiNd/OCC6HIckfA4ggFZtTiRJumzrk7bG/3Z7e17zat83OTkZer3e+ggI4Bk6IiKijqZUKvDGfcPxYGQfvDZ1mOhyHJLQAOjj4wOVStXqrFtZWVmrs3PN/Pz82hyvVqvh7e192THNr3kt7wsAc+fOhcFgsD6Kiorat6NERER0VXp1c8ardw+F3lkjuhSHJDQAOjk5ITw8HGlpaS22p6WlYcyYMW0+JyoqqtX4DRs2ICIiAhqN5rJjml/zWt4XALRaLTw8PFo8iIiIiOyNWnQBSUlJiI+PR0REBKKiovDBBx+gsLAQCQkJAJrOuhUXF+PTTz8F0HTH73vvvYekpCQ8/vjjyM7OxvLly6139wLArFmzMG7cOCxcuBB33XUX/vOf/2Djxo3IzMxs9/sSEREROSrhATAuLg4VFRVYsGABSkpKEBoaivXr16Nv36bbvktKSlr05gsMDMT69esxe/ZsvP/++/D398fixYsxdepU65gxY8Zg9erVeP755/HCCy+gf//+SElJQWRkZLvfl4iIiMhRCe8DaM/YR4iIiMj+8PvbRu4CJiIiIqKuwwBIREREJDMMgEREREQywwBIREREJDMMgEREREQywwBIREREJDMMgEREREQywwBIREREJDMMgEREREQyI3wpOHvWvIiK0WgUXAkRERG1V/P3tpwXQ2MAvA5VVVUAgICAAMGVEBER0dWqqqqCXq8XXYYQXAv4OlgsFpw6dQru7u5QKBQd+tpGoxEBAQEoKiqS7TqFV8JjdGU8Ru3D43RlPEbtw+N0ZbZwjCRJQlVVFfz9/aFUynM2HM8AXgelUonevXt36nt4eHjwH5Er4DG6Mh6j9uFxujIeo/bhcboy0cdIrmf+mskz9hIRERHJGAMgERERkcwwANoorVaLl156CVqtVnQpNovH6Mp4jNqHx+nKeIzah8fpyniMbANvAiEiIiKSGZ4BJCIiIpIZBkAiIiIimWEAJCIiIpIZBkAiIiIimWEAtEFLlixBYGAgdDodwsPDkZGRIbqkLvPyyy9DoVC0ePj5+Vl/LkkSXn75Zfj7+8PZ2Rk33XQT9u3b1+I16uvr8dRTT8HHxweurq74/e9/j5MnT3b1rnSYzZs3484774S/vz8UCgW++eabFj/vqGNSWVmJ+Ph46PV66PV6xMfH49y5c528dx3nSsfp0UcfbfXZuvHGG1uMcfTjlJycjFGjRsHd3R09evTAlClTcPDgwRZj5P55as8x4mcJWLp0KYYNG2Zt5hwVFYXvv//e+nO5f47sgkQ2ZfXq1ZJGo5E+/PBDaf/+/dKsWbMkV1dX6cSJE6JL6xIvvfSSNGTIEKmkpMT6KCsrs/78tddek9zd3aXU1FRpz549UlxcnNSzZ0/JaDRaxyQkJEi9evWS0tLSpJ07d0o333yzNHz4cMlsNovYpeu2fv16af78+VJqaqoEQFq7dm2Ln3fUMZk4caIUGhoqZWVlSVlZWVJoaKh0xx13dNVuXrcrHadHHnlEmjhxYovPVkVFRYsxjn6cJkyYIK1cuVLau3evtGvXLun222+X+vTpI50/f946Ru6fp/YcI36WJGndunXSd999Jx08eFA6ePCgNG/ePEmj0Uh79+6VJImfI3vAAGhjRo8eLSUkJLTYNmjQIOm5554TVFHXeumll6Thw4e3+TOLxSL5+flJr732mnVbXV2dpNfrpWXLlkmSJEnnzp2TNBqNtHr1auuY4uJiSalUSj/88EOn1t4VfhtsOuqY7N+/XwIgbdmyxTomOztbAiAdOHCgk/eq410qAN51112XfI4cj1NZWZkEQEpPT5ckiZ+ntvz2GEkSP0uX4unpKX300Uf8HNkJXgK2ISaTCTk5OYiNjW2xPTY2FllZWYKq6nqHDx+Gv78/AgMDcf/99+PYsWMAgIKCApSWlrY4PlqtFuPHj7cen5ycHDQ0NLQY4+/vj9DQUIc8hh11TLKzs6HX6xEZGWkdc+ONN0Kv1zvUcdu0aRN69OiBgQMH4vHHH0dZWZn1Z3I8TgaDAQDg5eUFgJ+ntvz2GDXjZ+lXjY2NWL16NaqrqxEVFcXPkZ1gALQh5eXlaGxshK+vb4vtvr6+KC0tFVRV14qMjMSnn36KH3/8ER9++CFKS0sxZswYVFRUWI/B5Y5PaWkpnJyc4OnpeckxjqSjjklpaSl69OjR6vV79OjhMMdt0qRJ+OKLL/DTTz/hrbfewvbt23HLLbegvr4egPyOkyRJSEpKQnR0NEJDQwHw8/RbbR0jgJ+lZnv27IGbmxu0Wi0SEhKwdu1ahISE8HNkJ9SiC6DWFApFi79LktRqm6OaNGmS9c9Dhw5FVFQU+vfvj08++cQ6yfpajo+jH8OOOCZtjXek4xYXF2f9c2hoKCIiItC3b1989913uOeeey75PEc9TjNmzMDu3buRmZnZ6mf8PDW51DHiZ6nJDTfcgF27duHcuXNITU3FI488gvT0dOvP+TmybTwDaEN8fHygUqla/WZTVlbW6jcpuXB1dcXQoUNx+PBh693Alzs+fn5+MJlMqKysvOQYR9JRx8TPzw+nT59u9fpnzpxxyOMGAD179kTfvn1x+PBhAPI6Tk899RTWrVuHn3/+Gb1797Zu5+fpV5c6Rm2R62fJyckJwcHBiIiIQHJyMoYPH45//vOf/BzZCQZAG+Lk5ITw8HCkpaW12J6WloYxY8YIqkqs+vp65Ofno2fPnggMDISfn1+L42MymZCenm49PuHh4dBoNC3GlJSUYO/evQ55DDvqmERFRcFgMGDbtm3WMVu3boXBYHDI4wYAFRUVKCoqQs+ePQHI4zhJkoQZM2ZgzZo1+OmnnxAYGNji5/w8XfkYtUWOn6W2SJKE+vp6fo7sRZfeckJX1NwGZvny5dL+/fulxMREydXVVTp+/Ljo0rrE008/LW3atEk6duyYtGXLFumOO+6Q3N3drfv/2muvSXq9XlqzZo20Z88e6YEHHmiztUDv3r2ljRs3Sjt37pRuueUWu24DU1VVJeXm5kq5ubkSAOntt9+WcnNzra2BOuqYTJw4URo2bJiUnZ0tZWdnS0OHDrWrdguXO05VVVXS008/LWVlZUkFBQXSzz//LEVFRUm9evWS1XF68sknJb1eL23atKlFC5OamhrrGLl/nq50jPhZajJ37lxp8+bNUkFBgbR7925p3rx5klKplDZs2CBJEj9H9oAB0Aa9//77Ut++fSUnJydp5MiRLdoPOLrmXlEajUby9/eX7rnnHmnfvn3Wn1ssFumll16S/Pz8JK1WK40bN07as2dPi9eora2VZsyYIXl5eUnOzs7SHXfcIRUWFnb1rnSYn3/+WQLQ6vHII49IktRxx6SiokJ66KGHJHd3d8nd3V166KGHpMrKyi7ay+t3ueNUU1MjxcbGSt27d5c0Go3Up08f6ZFHHml1DBz9OLV1fABIK1eutI6R++fpSseIn6Umf/rTn6zfU927d5duvfVWa/iTJH6O7IFCkiSp6843EhEREZFonANIREREJDMMgEREREQywwBIREREJDMMgEREREQywwBIREREJDMMgEREREQywwBIREREJDMMgEREREQywwBIREREJDMMgEREREQywwBIREREJDMMgEREREQywwBIREREJDMMgEREREQywwBIREREJDMMgEREREQywwBIREREJDMMgEREREQywwBIREREJDMMgEREREQywwBIREREJDMMgEREREQywwBIREREJDMMgEREREQywwBIREREJDMMgEREREQywwBIREREJDMMgEREREQywwBIREREJDMMgEREREQywwBIREREJDP/D6wifwvCMKIIAAAAAElFTkSuQmCC' width=640.0/>\n",
       "            </div>\n",
       "        "
      ],
      "text/plain": [
       "Canvas(toolbar=Toolbar(toolitems=[('Home', 'Reset original view', 'home', 'home'), ('Back', 'Back to previous …"
      ]
     },
     "metadata": {},
     "output_type": "display_data"
    }
   ],
   "source": [
    "lrs = []\n",
    "t = 0\n",
    "steps_per_epoch = len(train_loader)\n",
    "T_max = steps_per_epoch*epochs\n",
    "T_0 = T_max/5 \n",
    "for t in range(T_max):\n",
    "    if t <= T_0:\n",
    "        lr = 10**(-4) + (t/T_0)*lr_max  \n",
    "    else: \n",
    "        lr = lr_max*np.cos((np.pi/2)*((t-T_0)/(T_max-T_0))) + 10**(-6)\n",
    "    lrs.append(lr)\n",
    "\n",
    "fig = plt.figure()\n",
    "plt.plot(lrs)\n",
    "plt.show()\n"
   ]
  },
  {
   "cell_type": "code",
   "execution_count": 13,
   "metadata": {},
   "outputs": [],
   "source": [
    "lr =lr_max"
   ]
  },
  {
   "cell_type": "code",
   "execution_count": 14,
   "metadata": {},
   "outputs": [
    {
     "name": "stdout",
     "output_type": "stream",
     "text": [
      "Step: 1/307  |  Train loss: 0.7426  |  Train AUC: 0.4375\n"
     ]
    },
    {
     "name": "stderr",
     "output_type": "stream",
     "text": [
      "/home/anirudhkailaje/.local/lib/python3.11/site-packages/torchmetrics/utilities/prints.py:43: UserWarning: No positive samples in targets, true positive value should be meaningless. Returning zero tensor in true positive score\n",
      "  warnings.warn(*args, **kwargs)  # noqa: B028\n"
     ]
    },
    {
     "name": "stdout",
     "output_type": "stream",
     "text": [
      "Step: 101/307  |  Train loss: 0.3490  |  Train AUC: 0.6821\n",
      "Step: 201/307  |  Train loss: 0.3765  |  Train AUC: 0.8036\n",
      "Step: 301/307  |  Train loss: 0.3390  |  Train AUC: 0.7643\n",
      "Step: 1/307  |  Train loss: 0.2787  |  Train AUC: 0.7503\n",
      "Step: 101/307  |  Train loss: 0.2880  |  Train AUC: 0.8962\n",
      "Step: 201/307  |  Train loss: 0.2981  |  Train AUC: 0.8326\n",
      "Step: 301/307  |  Train loss: 0.3021  |  Train AUC: 0.7357\n",
      "Step: 1/307  |  Train loss: 0.2306  |  Train AUC: 0.7739\n",
      "Step: 101/307  |  Train loss: 0.3015  |  Train AUC: 0.8749\n",
      "Step: 201/307  |  Train loss: 0.3310  |  Train AUC: 0.8297\n",
      "Step: 301/307  |  Train loss: 0.3045  |  Train AUC: 0.8834\n",
      "Step: 1/307  |  Train loss: 0.2553  |  Train AUC: 0.7639\n",
      "Step: 101/307  |  Train loss: 0.3018  |  Train AUC: 0.7441\n",
      "Step: 201/307  |  Train loss: 0.2716  |  Train AUC: 0.8540\n",
      "Step: 301/307  |  Train loss: 0.2560  |  Train AUC: 0.7566\n",
      "Step: 1/307  |  Train loss: 0.3094  |  Train AUC: 0.7384\n",
      "Step: 101/307  |  Train loss: 0.2630  |  Train AUC: 0.8804\n",
      "Step: 201/307  |  Train loss: 0.2829  |  Train AUC: 0.8779\n",
      "Step: 301/307  |  Train loss: 0.2894  |  Train AUC: 0.7241\n",
      "Step: 1/307  |  Train loss: 0.2498  |  Train AUC: 0.7590\n",
      "Step: 101/307  |  Train loss: 0.3238  |  Train AUC: 0.7947\n",
      "Step: 201/307  |  Train loss: 0.2916  |  Train AUC: 0.7250\n",
      "Step: 301/307  |  Train loss: 0.2615  |  Train AUC: 0.8908\n",
      "Step: 1/307  |  Train loss: 0.2706  |  Train AUC: 0.8774\n",
      "Step: 101/307  |  Train loss: 0.2544  |  Train AUC: 0.9139\n",
      "Step: 201/307  |  Train loss: 0.2470  |  Train AUC: 0.9180\n",
      "Step: 301/307  |  Train loss: 0.2752  |  Train AUC: 0.8593\n",
      "Step: 1/307  |  Train loss: 0.2142  |  Train AUC: 0.8633\n",
      "Step: 101/307  |  Train loss: 0.1970  |  Train AUC: 0.8048\n",
      "Step: 201/307  |  Train loss: 0.2052  |  Train AUC: 0.8772\n",
      "Step: 301/307  |  Train loss: 0.2778  |  Train AUC: 0.7577\n",
      "Step: 1/307  |  Train loss: 0.1990  |  Train AUC: 0.7895\n",
      "Step: 101/307  |  Train loss: 0.2309  |  Train AUC: 0.9411\n",
      "Step: 201/307  |  Train loss: 0.2639  |  Train AUC: 0.9240\n",
      "Step: 301/307  |  Train loss: 0.2345  |  Train AUC: 0.7609\n",
      "Step: 1/307  |  Train loss: 0.2615  |  Train AUC: 0.7641\n",
      "Step: 101/307  |  Train loss: 0.2293  |  Train AUC: 0.9387\n",
      "Step: 201/307  |  Train loss: 0.1652  |  Train AUC: 0.8054\n",
      "Step: 301/307  |  Train loss: 0.1672  |  Train AUC: 0.8043\n"
     ]
    }
   ],
   "source": [
    "t = 0\n",
    "steps_per_epoch = len(train_loader)\n",
    "T_max = steps_per_epoch*epochs\n",
    "T_0 = T_max/5 \n",
    "learning_rates = []\n",
    "train_losses = []\n",
    "\n",
    "for epoch in range(epochs):\n",
    "    for i, (signal, labels) in enumerate(train_loader):\n",
    "        signal = signal.to(device); labels = labels.to(device)\n",
    "        optimizer.zero_grad()\n",
    "        outputs = model(signal)\n",
    "        loss = criterion(outputs, labels)\n",
    "        loss.backward()\n",
    "        nn.utils.clip_grad_norm_(model.parameters(), 5)\n",
    "        if t <= T_0:\n",
    "            lr = 10**(-4) + (t/T_0)*lr_max  \n",
    "        else: \n",
    "            lr = lr_max*np.cos((np.pi/2)*((t-T_0)/(T_max-T_0))) + 10**(-6) \n",
    "\n",
    "        for g in optimizer.param_groups:\n",
    "            g['lr'] = lr \n",
    "        learning_rates.append(lr)\n",
    "        train_losses.append(loss.item())\n",
    "        optimizer.step()\n",
    "        t+=1\n",
    "        \n",
    "        train_AUC = ml_auroc(outputs, labels.int())\n",
    "        writer.add_scalar(\"Train_Loss\", loss, t)\n",
    "        writer.add_scalar(\"Learning rate\", lr, t)\n",
    "        writer.add_scalar(\"Batch Train AUC\", train_AUC, t)\n",
    "\n",
    "        if i%100 == 0:\n",
    "            print(f\"Step: {i+1}/{len(train_loader)}  |  Train loss: {loss.item():.4f}  |  Train AUC: {train_AUC:.4f}\")\n",
    "           \n",
    "\n",
    "    # model.eval()\n",
    "    test_auc = 0\n",
    "    with torch.no_grad():\n",
    "        for i, (signal, labels) in enumerate(test_loader):\n",
    "            signal = signal.to(device); labels = labels.to(device)\n",
    "            outputs = model(signal)\n",
    "            test_auc += ml_auroc(outputs, labels.int())\n",
    "        test_auc /= len(test_loader)\n",
    "    writer.add_scalar(\"Test AUC\", test_auc, epoch)"
   ]
  },
  {
   "cell_type": "code",
   "execution_count": null,
   "metadata": {},
   "outputs": [],
   "source": [
    "model.eval()\n",
    "test_Auc = 0\n",
    "with torch.no_grad():\n",
    "    for i, (signal, labels) in enumerate(test_loader):\n",
    "        signal = signal.to(device); labels = labels.to(device)\n",
    "        outputs = model(signal)\n",
    "        test_Auc += ml_auroc(outputs, labels.int())\n",
    "\n",
    "test_Auc /= len(test_loader)\n",
    "test_Auc\n",
    "        "
   ]
  },
  {
   "cell_type": "code",
   "execution_count": null,
   "metadata": {},
   "outputs": [],
   "source": [
    "import pickle"
   ]
  },
  {
   "cell_type": "code",
   "execution_count": null,
   "metadata": {},
   "outputs": [],
   "source": [
    "with open('resnet101_model.pickle', 'wb') as f:\n",
    "    pickle.dump(model, f)"
   ]
  },
  {
   "cell_type": "code",
   "execution_count": 25,
   "metadata": {},
   "outputs": [
    {
     "name": "stderr",
     "output_type": "stream",
     "text": [
      "/home/anirudhkailaje/.local/lib/python3.11/site-packages/torch/nn/modules/transformer.py:282: UserWarning: enable_nested_tensor is True, but self.use_nested_tensor is False because encoder_layer.self_attn.batch_first was not True(use batch_first for better inference performance)\n",
      "  warnings.warn(f\"enable_nested_tensor is True, but self.use_nested_tensor is False because {why_not_sparsity_fast_path}\")\n"
     ]
    },
    {
     "data": {
      "text/plain": [
       "tensor([[0.4937, 0.5006, 0.4919, 0.5102, 0.4906]], grad_fn=<SigmoidBackward0>)"
      ]
     },
     "execution_count": 25,
     "metadata": {},
     "output_type": "execute_result"
    }
   ],
   "source": [
    "class PositionalEncoding(nn.Module):\n",
    "    def __init__(self, max_len=1000, emb_size=12):\n",
    "        super(PositionalEncoding, self).__init__()\n",
    "\n",
    "        pe = torch.zeros(max_len, emb_size)\n",
    "        position = torch.arange(0, max_len, dtype=torch.float).unsqueeze(1)\n",
    "        div_term = torch.exp(torch.arange(0, emb_size, 2).float() * (-np.log(10000.0) / emb_size))\n",
    "        pe[:, 0::2] = torch.sin(position * div_term)\n",
    "        pe[:, 1::2] = torch.cos(position * div_term)\n",
    "        pe = pe.unsqueeze(0).transpose(0, 1)\n",
    "        self.register_buffer(\"pe\", pe)\n",
    "\n",
    "    def forward(self, x):\n",
    "        return x + self.pe[:x.size(0), :]\n",
    "\n",
    "class Transformer(nn.Transformer):\n",
    "    def __init__(self, emb_size=12, nhead=6, depth=6, hidden_size=128, seq_length=1000, num_classes=5):\n",
    "        super(Transformer, self).__init__(d_model=emb_size, nhead=nhead, num_encoder_layers=depth, num_decoder_layers=depth, dim_feedforward=hidden_size)\n",
    "    \n",
    "        self.pos_encoder = PositionalEncoding(seq_length, emb_size)\n",
    "        self.decoder = nn.Linear(emb_size, 256)\n",
    "        self.linear1 = nn.Linear(256, 512)\n",
    "        self.linear2 = nn.Linear(512, 1024)\n",
    "        self.linear3 = nn.Linear(1024, num_classes)\n",
    "        \n",
    "    def __forward_impl(self, x):\n",
    "        #x = self.pos_encoder(x)\n",
    "        x = self.encoder(x)\n",
    "        x = x.mean(dim=1)\n",
    "        x = self.decoder(x)\n",
    "        x = torch.relu(x)\n",
    "        x = self.linear1(x)\n",
    "        x = torch.relu(x)\n",
    "        x = self.linear2(x)\n",
    "        x = torch.relu(x)\n",
    "        x = self.linear3(x)\n",
    "        x = torch.sigmoid(x)\n",
    "        return x\n",
    "    \n",
    "    def forward(self, x):\n",
    "        return self.__forward_impl(x)\n",
    "    \n",
    "model = Transformer(nhead=6, hidden_size=512, depth=3).to(device)\n",
    "\n",
    "model(X_train[0].T.unsqueeze(0))"
   ]
  },
  {
   "cell_type": "code",
   "execution_count": 20,
   "metadata": {},
   "outputs": [
    {
     "data": {
      "text/plain": [
       "torch.Size([1000, 12])"
      ]
     },
     "execution_count": 20,
     "metadata": {},
     "output_type": "execute_result"
    }
   ],
   "source": [
    "X_train[0].T.shape"
   ]
  },
  {
   "cell_type": "code",
   "execution_count": 9,
   "metadata": {},
   "outputs": [
    {
     "ename": "RuntimeError",
     "evalue": "Failed to run torchinfo. See above stack traces for more details. Executed layers up to: [TransformerEncoder: 1, TransformerEncoderLayer: 3, MultiheadAttention: 4, Dropout: 4, LayerNorm: 4, Linear: 4, Dropout: 4, Linear: 4, Dropout: 4, LayerNorm: 4, TransformerEncoderLayer: 3, MultiheadAttention: 4, Dropout: 4, LayerNorm: 4, Linear: 4, Dropout: 4, Linear: 4, Dropout: 4, LayerNorm: 4, TransformerEncoderLayer: 3, MultiheadAttention: 4, Dropout: 4, LayerNorm: 4, Linear: 4, Dropout: 4, Linear: 4, Dropout: 4, LayerNorm: 4, LayerNorm: 2]",
     "output_type": "error",
     "traceback": [
      "\u001b[0;31m---------------------------------------------------------------------------\u001b[0m",
      "\u001b[0;31mRuntimeError\u001b[0m                              Traceback (most recent call last)",
      "File \u001b[0;32m~/.local/lib/python3.11/site-packages/torchinfo/torchinfo.py:295\u001b[0m, in \u001b[0;36mforward_pass\u001b[0;34m(model, x, batch_dim, cache_forward_pass, device, mode, **kwargs)\u001b[0m\n\u001b[1;32m    294\u001b[0m \u001b[39mif\u001b[39;00m \u001b[39misinstance\u001b[39m(x, (\u001b[39mlist\u001b[39m, \u001b[39mtuple\u001b[39m)):\n\u001b[0;32m--> 295\u001b[0m     _ \u001b[39m=\u001b[39m model(\u001b[39m*\u001b[39;49mx, \u001b[39m*\u001b[39;49m\u001b[39m*\u001b[39;49mkwargs)\n\u001b[1;32m    296\u001b[0m \u001b[39melif\u001b[39;00m \u001b[39misinstance\u001b[39m(x, \u001b[39mdict\u001b[39m):\n",
      "File \u001b[0;32m~/.local/lib/python3.11/site-packages/torch/nn/modules/module.py:1518\u001b[0m, in \u001b[0;36mModule._wrapped_call_impl\u001b[0;34m(self, *args, **kwargs)\u001b[0m\n\u001b[1;32m   1517\u001b[0m \u001b[39melse\u001b[39;00m:\n\u001b[0;32m-> 1518\u001b[0m     \u001b[39mreturn\u001b[39;00m \u001b[39mself\u001b[39;49m\u001b[39m.\u001b[39;49m_call_impl(\u001b[39m*\u001b[39;49margs, \u001b[39m*\u001b[39;49m\u001b[39m*\u001b[39;49mkwargs)\n",
      "File \u001b[0;32m~/.local/lib/python3.11/site-packages/torch/nn/modules/module.py:1568\u001b[0m, in \u001b[0;36mModule._call_impl\u001b[0;34m(self, *args, **kwargs)\u001b[0m\n\u001b[1;32m   1566\u001b[0m     args \u001b[39m=\u001b[39m bw_hook\u001b[39m.\u001b[39msetup_input_hook(args)\n\u001b[0;32m-> 1568\u001b[0m result \u001b[39m=\u001b[39m forward_call(\u001b[39m*\u001b[39;49margs, \u001b[39m*\u001b[39;49m\u001b[39m*\u001b[39;49mkwargs)\n\u001b[1;32m   1569\u001b[0m \u001b[39mif\u001b[39;00m _global_forward_hooks \u001b[39mor\u001b[39;00m \u001b[39mself\u001b[39m\u001b[39m.\u001b[39m_forward_hooks:\n",
      "\u001b[1;32m/home/anirudhkailaje/Documents/01_UPenn/01_ESE5460/03_Project/src/CNN_Trial.ipynb Cell 22\u001b[0m line \u001b[0;36m4\n\u001b[1;32m     <a href='vscode-notebook-cell:/home/anirudhkailaje/Documents/01_UPenn/01_ESE5460/03_Project/src/CNN_Trial.ipynb#X30sZmlsZQ%3D%3D?line=39'>40</a>\u001b[0m \u001b[39mdef\u001b[39;00m \u001b[39mforward\u001b[39m(\u001b[39mself\u001b[39m, x):\n\u001b[0;32m---> <a href='vscode-notebook-cell:/home/anirudhkailaje/Documents/01_UPenn/01_ESE5460/03_Project/src/CNN_Trial.ipynb#X30sZmlsZQ%3D%3D?line=40'>41</a>\u001b[0m     \u001b[39mreturn\u001b[39;00m \u001b[39mself\u001b[39;49m\u001b[39m.\u001b[39;49m__forward_impl(x)\n",
      "\u001b[1;32m/home/anirudhkailaje/Documents/01_UPenn/01_ESE5460/03_Project/src/CNN_Trial.ipynb Cell 22\u001b[0m line \u001b[0;36m3\n\u001b[1;32m     <a href='vscode-notebook-cell:/home/anirudhkailaje/Documents/01_UPenn/01_ESE5460/03_Project/src/CNN_Trial.ipynb#X30sZmlsZQ%3D%3D?line=28'>29</a>\u001b[0m x \u001b[39m=\u001b[39m x\u001b[39m.\u001b[39mmean(dim\u001b[39m=\u001b[39m\u001b[39m1\u001b[39m)\n\u001b[0;32m---> <a href='vscode-notebook-cell:/home/anirudhkailaje/Documents/01_UPenn/01_ESE5460/03_Project/src/CNN_Trial.ipynb#X30sZmlsZQ%3D%3D?line=29'>30</a>\u001b[0m x \u001b[39m=\u001b[39m \u001b[39mself\u001b[39;49m\u001b[39m.\u001b[39;49mdecoder(x)\n\u001b[1;32m     <a href='vscode-notebook-cell:/home/anirudhkailaje/Documents/01_UPenn/01_ESE5460/03_Project/src/CNN_Trial.ipynb#X30sZmlsZQ%3D%3D?line=30'>31</a>\u001b[0m x \u001b[39m=\u001b[39m torch\u001b[39m.\u001b[39mrelu(x)\n",
      "File \u001b[0;32m~/.local/lib/python3.11/site-packages/torch/nn/modules/module.py:1518\u001b[0m, in \u001b[0;36mModule._wrapped_call_impl\u001b[0;34m(self, *args, **kwargs)\u001b[0m\n\u001b[1;32m   1517\u001b[0m \u001b[39melse\u001b[39;00m:\n\u001b[0;32m-> 1518\u001b[0m     \u001b[39mreturn\u001b[39;00m \u001b[39mself\u001b[39;49m\u001b[39m.\u001b[39;49m_call_impl(\u001b[39m*\u001b[39;49margs, \u001b[39m*\u001b[39;49m\u001b[39m*\u001b[39;49mkwargs)\n",
      "File \u001b[0;32m~/.local/lib/python3.11/site-packages/torch/nn/modules/module.py:1568\u001b[0m, in \u001b[0;36mModule._call_impl\u001b[0;34m(self, *args, **kwargs)\u001b[0m\n\u001b[1;32m   1566\u001b[0m     args \u001b[39m=\u001b[39m bw_hook\u001b[39m.\u001b[39msetup_input_hook(args)\n\u001b[0;32m-> 1568\u001b[0m result \u001b[39m=\u001b[39m forward_call(\u001b[39m*\u001b[39;49margs, \u001b[39m*\u001b[39;49m\u001b[39m*\u001b[39;49mkwargs)\n\u001b[1;32m   1569\u001b[0m \u001b[39mif\u001b[39;00m _global_forward_hooks \u001b[39mor\u001b[39;00m \u001b[39mself\u001b[39m\u001b[39m.\u001b[39m_forward_hooks:\n",
      "File \u001b[0;32m~/.local/lib/python3.11/site-packages/torch/nn/modules/linear.py:114\u001b[0m, in \u001b[0;36mLinear.forward\u001b[0;34m(self, input)\u001b[0m\n\u001b[1;32m    113\u001b[0m \u001b[39mdef\u001b[39;00m \u001b[39mforward\u001b[39m(\u001b[39mself\u001b[39m, \u001b[39minput\u001b[39m: Tensor) \u001b[39m-\u001b[39m\u001b[39m>\u001b[39m Tensor:\n\u001b[0;32m--> 114\u001b[0m     \u001b[39mreturn\u001b[39;00m F\u001b[39m.\u001b[39;49mlinear(\u001b[39minput\u001b[39;49m, \u001b[39mself\u001b[39;49m\u001b[39m.\u001b[39;49mweight, \u001b[39mself\u001b[39;49m\u001b[39m.\u001b[39;49mbias)\n",
      "\u001b[0;31mRuntimeError\u001b[0m: mat1 and mat2 shapes cannot be multiplied (1x1000 and 12x256)",
      "\nThe above exception was the direct cause of the following exception:\n",
      "\u001b[0;31mRuntimeError\u001b[0m                              Traceback (most recent call last)",
      "\u001b[1;32m/home/anirudhkailaje/Documents/01_UPenn/01_ESE5460/03_Project/src/CNN_Trial.ipynb Cell 22\u001b[0m line \u001b[0;36m2\n\u001b[1;32m      <a href='vscode-notebook-cell:/home/anirudhkailaje/Documents/01_UPenn/01_ESE5460/03_Project/src/CNN_Trial.ipynb#X30sZmlsZQ%3D%3D?line=0'>1</a>\u001b[0m model \u001b[39m=\u001b[39m Transformer(nhead\u001b[39m=\u001b[39m\u001b[39m6\u001b[39m, hidden_size\u001b[39m=\u001b[39m\u001b[39m512\u001b[39m, depth\u001b[39m=\u001b[39m\u001b[39m3\u001b[39m)\u001b[39m.\u001b[39mto(device)\n\u001b[0;32m----> <a href='vscode-notebook-cell:/home/anirudhkailaje/Documents/01_UPenn/01_ESE5460/03_Project/src/CNN_Trial.ipynb#X30sZmlsZQ%3D%3D?line=1'>2</a>\u001b[0m \u001b[39mprint\u001b[39m(summary(model, [\u001b[39m1000\u001b[39;49m, \u001b[39m12\u001b[39;49m]))\n",
      "File \u001b[0;32m~/.local/lib/python3.11/site-packages/torchinfo/torchinfo.py:223\u001b[0m, in \u001b[0;36msummary\u001b[0;34m(model, input_size, input_data, batch_dim, cache_forward_pass, col_names, col_width, depth, device, dtypes, mode, row_settings, verbose, **kwargs)\u001b[0m\n\u001b[1;32m    216\u001b[0m validate_user_params(\n\u001b[1;32m    217\u001b[0m     input_data, input_size, columns, col_width, device, dtypes, verbose\n\u001b[1;32m    218\u001b[0m )\n\u001b[1;32m    220\u001b[0m x, correct_input_size \u001b[39m=\u001b[39m process_input(\n\u001b[1;32m    221\u001b[0m     input_data, input_size, batch_dim, device, dtypes\n\u001b[1;32m    222\u001b[0m )\n\u001b[0;32m--> 223\u001b[0m summary_list \u001b[39m=\u001b[39m forward_pass(\n\u001b[1;32m    224\u001b[0m     model, x, batch_dim, cache_forward_pass, device, model_mode, \u001b[39m*\u001b[39;49m\u001b[39m*\u001b[39;49mkwargs\n\u001b[1;32m    225\u001b[0m )\n\u001b[1;32m    226\u001b[0m formatting \u001b[39m=\u001b[39m FormattingOptions(depth, verbose, columns, col_width, rows)\n\u001b[1;32m    227\u001b[0m results \u001b[39m=\u001b[39m ModelStatistics(\n\u001b[1;32m    228\u001b[0m     summary_list, correct_input_size, get_total_memory_used(x), formatting\n\u001b[1;32m    229\u001b[0m )\n",
      "File \u001b[0;32m~/.local/lib/python3.11/site-packages/torchinfo/torchinfo.py:304\u001b[0m, in \u001b[0;36mforward_pass\u001b[0;34m(model, x, batch_dim, cache_forward_pass, device, mode, **kwargs)\u001b[0m\n\u001b[1;32m    302\u001b[0m \u001b[39mexcept\u001b[39;00m \u001b[39mException\u001b[39;00m \u001b[39mas\u001b[39;00m e:\n\u001b[1;32m    303\u001b[0m     executed_layers \u001b[39m=\u001b[39m [layer \u001b[39mfor\u001b[39;00m layer \u001b[39min\u001b[39;00m summary_list \u001b[39mif\u001b[39;00m layer\u001b[39m.\u001b[39mexecuted]\n\u001b[0;32m--> 304\u001b[0m     \u001b[39mraise\u001b[39;00m \u001b[39mRuntimeError\u001b[39;00m(\n\u001b[1;32m    305\u001b[0m         \u001b[39m\"\u001b[39m\u001b[39mFailed to run torchinfo. See above stack traces for more details. \u001b[39m\u001b[39m\"\u001b[39m\n\u001b[1;32m    306\u001b[0m         \u001b[39mf\u001b[39m\u001b[39m\"\u001b[39m\u001b[39mExecuted layers up to: \u001b[39m\u001b[39m{\u001b[39;00mexecuted_layers\u001b[39m}\u001b[39;00m\u001b[39m\"\u001b[39m\n\u001b[1;32m    307\u001b[0m     ) \u001b[39mfrom\u001b[39;00m \u001b[39me\u001b[39;00m\n\u001b[1;32m    308\u001b[0m \u001b[39mfinally\u001b[39;00m:\n\u001b[1;32m    309\u001b[0m     \u001b[39mif\u001b[39;00m hooks:\n",
      "\u001b[0;31mRuntimeError\u001b[0m: Failed to run torchinfo. See above stack traces for more details. Executed layers up to: [TransformerEncoder: 1, TransformerEncoderLayer: 3, MultiheadAttention: 4, Dropout: 4, LayerNorm: 4, Linear: 4, Dropout: 4, Linear: 4, Dropout: 4, LayerNorm: 4, TransformerEncoderLayer: 3, MultiheadAttention: 4, Dropout: 4, LayerNorm: 4, Linear: 4, Dropout: 4, Linear: 4, Dropout: 4, LayerNorm: 4, TransformerEncoderLayer: 3, MultiheadAttention: 4, Dropout: 4, LayerNorm: 4, Linear: 4, Dropout: 4, Linear: 4, Dropout: 4, LayerNorm: 4, LayerNorm: 2]"
     ]
    }
   ],
   "source": [
    "model = Transformer(nhead=6, hidden_size=512, depth=3).to(device)\n",
    "print(summary(model, [1000, 12]))"
   ]
  },
  {
   "cell_type": "code",
   "execution_count": 11,
   "metadata": {},
   "outputs": [
    {
     "data": {
      "text/plain": [
       "===============================================================================================\n",
       "Layer (type:depth-idx)                        Output Shape              Param #\n",
       "===============================================================================================\n",
       "Transformer                                   [1, 5]                    --\n",
       "├─TransformerEncoder: 1-1                     [1, 1000, 12]             --\n",
       "│    └─ModuleList: 2-1                        --                        --\n",
       "│    │    └─TransformerEncoderLayer: 3-1      [1, 1000, 12]             13,484\n",
       "│    │    └─TransformerEncoderLayer: 3-2      [1, 1000, 12]             13,484\n",
       "│    │    └─TransformerEncoderLayer: 3-3      [1, 1000, 12]             13,484\n",
       "│    └─LayerNorm: 2-2                         [1, 1000, 12]             24\n",
       "├─Linear: 1-2                                 [1, 256]                  3,328\n",
       "├─Linear: 1-3                                 [1, 512]                  131,584\n",
       "├─Linear: 1-4                                 [1, 1024]                 525,312\n",
       "├─Linear: 1-5                                 [1, 5]                    5,125\n",
       "===============================================================================================\n",
       "Total params: 705,825\n",
       "Trainable params: 705,825\n",
       "Non-trainable params: 0\n",
       "Total mult-adds (Units.MEGABYTES): 0.70\n",
       "===============================================================================================\n",
       "Input size (MB): 0.05\n",
       "Forward/backward pass size (MB): 13.26\n",
       "Params size (MB): 2.82\n",
       "Estimated Total Size (MB): 16.13\n",
       "==============================================================================================="
      ]
     },
     "execution_count": 11,
     "metadata": {},
     "output_type": "execute_result"
    }
   ],
   "source": [
    "summary(model.to(device), (1,1000, 12))"
   ]
  },
  {
   "cell_type": "code",
   "execution_count": 15,
   "metadata": {},
   "outputs": [
    {
     "data": {
      "text/plain": [
       "524800"
      ]
     },
     "execution_count": 15,
     "metadata": {},
     "output_type": "execute_result"
    }
   ],
   "source": [
    "512*1024+512"
   ]
  },
  {
   "cell_type": "code",
   "execution_count": null,
   "metadata": {},
   "outputs": [],
   "source": [
    "\"\"\"Transformer needs X input as (seq_len, batch_size, channels)\"\"\"\n",
    "model = Transformer(nhead=6, hidden_size=512, depth=3).to(device)\n",
    "# resnetModel = ResNet(Bottleneck, [3, 4, 23, 3], num_classes=6).to(device)\n",
    "\n",
    "# resnetModel(X_train[0:1].to(device))\n",
    "print(\"Forward pass\")\n",
    "X_train = X_train.transpose(0,1).transpose(0,2)\n",
    "model(X_train[:, :17, :].to(device))"
   ]
  }
 ],
 "metadata": {
  "kernelspec": {
   "display_name": "Python 3",
   "language": "python",
   "name": "python3"
  },
  "language_info": {
   "codemirror_mode": {
    "name": "ipython",
    "version": 3
   },
   "file_extension": ".py",
   "mimetype": "text/x-python",
   "name": "python",
   "nbconvert_exporter": "python",
   "pygments_lexer": "ipython3",
   "version": "3.11.2"
  }
 },
 "nbformat": 4,
 "nbformat_minor": 2
}
